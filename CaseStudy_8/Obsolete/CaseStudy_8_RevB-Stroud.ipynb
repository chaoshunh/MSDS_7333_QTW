{
 "cells": [
  {
   "cell_type": "markdown",
   "metadata": {},
   "source": [
    "# Financial and Economic Data Applications\n",
    "Original from Wes McKinney (https://github.com/wesm/pydata-book/tree/1st-edition)\n",
    "\n",
    "Updated and edited for Python circa 2018 by R. D. Slater\n",
    "\n",
    "MSDS 7333 - Quantifying the World - Case Study 8  \n",
    "Signal Frontier Analysis  \n",
    "Team Members: Jeffery Lancon, Manisha Pednekar, Andrew Walch, David Stroud  \n",
    "Date: 03/05/2019\n"
   ]
  },
  {
   "cell_type": "code",
   "execution_count": 1,
   "metadata": {},
   "outputs": [],
   "source": [
    "from __future__ import division\n",
    "from pandas import Series, DataFrame\n",
    "import pandas as pd\n",
    "from numpy.random import randn\n",
    "import numpy as np\n",
    "pd.options.display.max_rows = 12\n",
    "np.set_printoptions(precision=4, suppress=True)\n",
    "import matplotlib.pyplot as plt\n",
    "plt.rc('figure', figsize=(12, 6))"
   ]
  },
  {
   "cell_type": "code",
   "execution_count": 2,
   "metadata": {},
   "outputs": [],
   "source": [
    "%matplotlib inline"
   ]
  },
  {
   "cell_type": "code",
   "execution_count": 3,
   "metadata": {},
   "outputs": [],
   "source": [
    "import os\n",
    "currentDir = %pwd\n",
    "os.chdir(currentDir)"
   ]
  },
  {
   "cell_type": "code",
   "execution_count": 4,
   "metadata": {},
   "outputs": [
    {
     "data": {
      "text/plain": [
       "'C:\\\\Users\\\\Prodigy\\\\Documents\\\\GitRepositories\\\\MSDS_7333_QTW\\\\CaseStudy_8'"
      ]
     },
     "execution_count": 4,
     "metadata": {},
     "output_type": "execute_result"
    }
   ],
   "source": [
    "pwd"
   ]
  },
  {
   "cell_type": "markdown",
   "metadata": {},
   "source": [
    "## Data munging topics"
   ]
  },
  {
   "cell_type": "markdown",
   "metadata": {},
   "source": [
    "### Time series and cross-section alignment"
   ]
  },
  {
   "cell_type": "code",
   "execution_count": 5,
   "metadata": {},
   "outputs": [],
   "source": [
    "close_px = pd.read_csv('Data/MSDS7333_Wk7_stock_px.csv', parse_dates=True, index_col=0)\n",
    "volume = pd.read_csv('Data/MSDS7333_Wk7_volume.csv', parse_dates=True, index_col=0)\n",
    "prices = close_px.loc['2011-09-05':'2011-09-14', ['AAPL', 'JNJ', 'SPX', 'XOM']]\n",
    "volume = volume.loc['2011-09-05':'2011-09-12', ['AAPL', 'JNJ', 'XOM']]"
   ]
  },
  {
   "cell_type": "code",
   "execution_count": 6,
   "metadata": {},
   "outputs": [
    {
     "data": {
      "text/html": [
       "<div>\n",
       "<style scoped>\n",
       "    .dataframe tbody tr th:only-of-type {\n",
       "        vertical-align: middle;\n",
       "    }\n",
       "\n",
       "    .dataframe tbody tr th {\n",
       "        vertical-align: top;\n",
       "    }\n",
       "\n",
       "    .dataframe thead th {\n",
       "        text-align: right;\n",
       "    }\n",
       "</style>\n",
       "<table border=\"1\" class=\"dataframe\">\n",
       "  <thead>\n",
       "    <tr style=\"text-align: right;\">\n",
       "      <th></th>\n",
       "      <th>AAPL</th>\n",
       "      <th>JNJ</th>\n",
       "      <th>SPX</th>\n",
       "      <th>XOM</th>\n",
       "    </tr>\n",
       "  </thead>\n",
       "  <tbody>\n",
       "    <tr>\n",
       "      <th>2011-09-06</th>\n",
       "      <td>379.74</td>\n",
       "      <td>64.64</td>\n",
       "      <td>1165.24</td>\n",
       "      <td>71.15</td>\n",
       "    </tr>\n",
       "    <tr>\n",
       "      <th>2011-09-07</th>\n",
       "      <td>383.93</td>\n",
       "      <td>65.43</td>\n",
       "      <td>1198.62</td>\n",
       "      <td>73.65</td>\n",
       "    </tr>\n",
       "    <tr>\n",
       "      <th>2011-09-08</th>\n",
       "      <td>384.14</td>\n",
       "      <td>64.95</td>\n",
       "      <td>1185.90</td>\n",
       "      <td>72.82</td>\n",
       "    </tr>\n",
       "    <tr>\n",
       "      <th>2011-09-09</th>\n",
       "      <td>377.48</td>\n",
       "      <td>63.64</td>\n",
       "      <td>1154.23</td>\n",
       "      <td>71.01</td>\n",
       "    </tr>\n",
       "    <tr>\n",
       "      <th>2011-09-12</th>\n",
       "      <td>379.94</td>\n",
       "      <td>63.59</td>\n",
       "      <td>1162.27</td>\n",
       "      <td>71.84</td>\n",
       "    </tr>\n",
       "    <tr>\n",
       "      <th>2011-09-13</th>\n",
       "      <td>384.62</td>\n",
       "      <td>63.61</td>\n",
       "      <td>1172.87</td>\n",
       "      <td>71.65</td>\n",
       "    </tr>\n",
       "    <tr>\n",
       "      <th>2011-09-14</th>\n",
       "      <td>389.30</td>\n",
       "      <td>63.73</td>\n",
       "      <td>1188.68</td>\n",
       "      <td>72.64</td>\n",
       "    </tr>\n",
       "  </tbody>\n",
       "</table>\n",
       "</div>"
      ],
      "text/plain": [
       "              AAPL    JNJ      SPX    XOM\n",
       "2011-09-06  379.74  64.64  1165.24  71.15\n",
       "2011-09-07  383.93  65.43  1198.62  73.65\n",
       "2011-09-08  384.14  64.95  1185.90  72.82\n",
       "2011-09-09  377.48  63.64  1154.23  71.01\n",
       "2011-09-12  379.94  63.59  1162.27  71.84\n",
       "2011-09-13  384.62  63.61  1172.87  71.65\n",
       "2011-09-14  389.30  63.73  1188.68  72.64"
      ]
     },
     "execution_count": 6,
     "metadata": {},
     "output_type": "execute_result"
    }
   ],
   "source": [
    "prices"
   ]
  },
  {
   "cell_type": "code",
   "execution_count": 7,
   "metadata": {},
   "outputs": [
    {
     "data": {
      "text/html": [
       "<div>\n",
       "<style scoped>\n",
       "    .dataframe tbody tr th:only-of-type {\n",
       "        vertical-align: middle;\n",
       "    }\n",
       "\n",
       "    .dataframe tbody tr th {\n",
       "        vertical-align: top;\n",
       "    }\n",
       "\n",
       "    .dataframe thead th {\n",
       "        text-align: right;\n",
       "    }\n",
       "</style>\n",
       "<table border=\"1\" class=\"dataframe\">\n",
       "  <thead>\n",
       "    <tr style=\"text-align: right;\">\n",
       "      <th></th>\n",
       "      <th>AAPL</th>\n",
       "      <th>JNJ</th>\n",
       "      <th>XOM</th>\n",
       "    </tr>\n",
       "  </thead>\n",
       "  <tbody>\n",
       "    <tr>\n",
       "      <th>2011-09-06</th>\n",
       "      <td>18173500.0</td>\n",
       "      <td>15848300.0</td>\n",
       "      <td>25416300.0</td>\n",
       "    </tr>\n",
       "    <tr>\n",
       "      <th>2011-09-07</th>\n",
       "      <td>12492000.0</td>\n",
       "      <td>10759700.0</td>\n",
       "      <td>23108400.0</td>\n",
       "    </tr>\n",
       "    <tr>\n",
       "      <th>2011-09-08</th>\n",
       "      <td>14839800.0</td>\n",
       "      <td>15551500.0</td>\n",
       "      <td>22434800.0</td>\n",
       "    </tr>\n",
       "    <tr>\n",
       "      <th>2011-09-09</th>\n",
       "      <td>20171900.0</td>\n",
       "      <td>17008200.0</td>\n",
       "      <td>27969100.0</td>\n",
       "    </tr>\n",
       "    <tr>\n",
       "      <th>2011-09-12</th>\n",
       "      <td>16697300.0</td>\n",
       "      <td>13448200.0</td>\n",
       "      <td>26205800.0</td>\n",
       "    </tr>\n",
       "  </tbody>\n",
       "</table>\n",
       "</div>"
      ],
      "text/plain": [
       "                  AAPL         JNJ         XOM\n",
       "2011-09-06  18173500.0  15848300.0  25416300.0\n",
       "2011-09-07  12492000.0  10759700.0  23108400.0\n",
       "2011-09-08  14839800.0  15551500.0  22434800.0\n",
       "2011-09-09  20171900.0  17008200.0  27969100.0\n",
       "2011-09-12  16697300.0  13448200.0  26205800.0"
      ]
     },
     "execution_count": 7,
     "metadata": {},
     "output_type": "execute_result"
    }
   ],
   "source": [
    "volume"
   ]
  },
  {
   "cell_type": "code",
   "execution_count": 8,
   "metadata": {},
   "outputs": [
    {
     "data": {
      "text/html": [
       "<div>\n",
       "<style scoped>\n",
       "    .dataframe tbody tr th:only-of-type {\n",
       "        vertical-align: middle;\n",
       "    }\n",
       "\n",
       "    .dataframe tbody tr th {\n",
       "        vertical-align: top;\n",
       "    }\n",
       "\n",
       "    .dataframe thead th {\n",
       "        text-align: right;\n",
       "    }\n",
       "</style>\n",
       "<table border=\"1\" class=\"dataframe\">\n",
       "  <thead>\n",
       "    <tr style=\"text-align: right;\">\n",
       "      <th></th>\n",
       "      <th>AAPL</th>\n",
       "      <th>JNJ</th>\n",
       "      <th>SPX</th>\n",
       "      <th>XOM</th>\n",
       "    </tr>\n",
       "  </thead>\n",
       "  <tbody>\n",
       "    <tr>\n",
       "      <th>2011-09-06</th>\n",
       "      <td>6.901205e+09</td>\n",
       "      <td>1.024434e+09</td>\n",
       "      <td>NaN</td>\n",
       "      <td>1.808370e+09</td>\n",
       "    </tr>\n",
       "    <tr>\n",
       "      <th>2011-09-07</th>\n",
       "      <td>4.796054e+09</td>\n",
       "      <td>7.040072e+08</td>\n",
       "      <td>NaN</td>\n",
       "      <td>1.701934e+09</td>\n",
       "    </tr>\n",
       "    <tr>\n",
       "      <th>2011-09-08</th>\n",
       "      <td>5.700561e+09</td>\n",
       "      <td>1.010070e+09</td>\n",
       "      <td>NaN</td>\n",
       "      <td>1.633702e+09</td>\n",
       "    </tr>\n",
       "    <tr>\n",
       "      <th>2011-09-09</th>\n",
       "      <td>7.614489e+09</td>\n",
       "      <td>1.082402e+09</td>\n",
       "      <td>NaN</td>\n",
       "      <td>1.986086e+09</td>\n",
       "    </tr>\n",
       "    <tr>\n",
       "      <th>2011-09-12</th>\n",
       "      <td>6.343972e+09</td>\n",
       "      <td>8.551710e+08</td>\n",
       "      <td>NaN</td>\n",
       "      <td>1.882625e+09</td>\n",
       "    </tr>\n",
       "    <tr>\n",
       "      <th>2011-09-13</th>\n",
       "      <td>NaN</td>\n",
       "      <td>NaN</td>\n",
       "      <td>NaN</td>\n",
       "      <td>NaN</td>\n",
       "    </tr>\n",
       "    <tr>\n",
       "      <th>2011-09-14</th>\n",
       "      <td>NaN</td>\n",
       "      <td>NaN</td>\n",
       "      <td>NaN</td>\n",
       "      <td>NaN</td>\n",
       "    </tr>\n",
       "  </tbody>\n",
       "</table>\n",
       "</div>"
      ],
      "text/plain": [
       "                    AAPL           JNJ  SPX           XOM\n",
       "2011-09-06  6.901205e+09  1.024434e+09  NaN  1.808370e+09\n",
       "2011-09-07  4.796054e+09  7.040072e+08  NaN  1.701934e+09\n",
       "2011-09-08  5.700561e+09  1.010070e+09  NaN  1.633702e+09\n",
       "2011-09-09  7.614489e+09  1.082402e+09  NaN  1.986086e+09\n",
       "2011-09-12  6.343972e+09  8.551710e+08  NaN  1.882625e+09\n",
       "2011-09-13           NaN           NaN  NaN           NaN\n",
       "2011-09-14           NaN           NaN  NaN           NaN"
      ]
     },
     "execution_count": 8,
     "metadata": {},
     "output_type": "execute_result"
    }
   ],
   "source": [
    "prices * volume"
   ]
  },
  {
   "cell_type": "code",
   "execution_count": 9,
   "metadata": {},
   "outputs": [],
   "source": [
    "vwap = (prices * volume).sum() / volume.sum()"
   ]
  },
  {
   "cell_type": "code",
   "execution_count": 10,
   "metadata": {},
   "outputs": [
    {
     "data": {
      "text/plain": [
       "AAPL    380.655181\n",
       "JNJ      64.394769\n",
       "SPX            NaN\n",
       "XOM      72.024288\n",
       "dtype: float64"
      ]
     },
     "execution_count": 10,
     "metadata": {},
     "output_type": "execute_result"
    }
   ],
   "source": [
    "vwap"
   ]
  },
  {
   "cell_type": "code",
   "execution_count": 11,
   "metadata": {},
   "outputs": [
    {
     "data": {
      "text/plain": [
       "AAPL    380.655181\n",
       "JNJ      64.394769\n",
       "XOM      72.024288\n",
       "dtype: float64"
      ]
     },
     "execution_count": 11,
     "metadata": {},
     "output_type": "execute_result"
    }
   ],
   "source": [
    "vwap.dropna()"
   ]
  },
  {
   "cell_type": "code",
   "execution_count": 12,
   "metadata": {},
   "outputs": [
    {
     "data": {
      "text/plain": [
       "(              AAPL    JNJ    XOM\n",
       " 2011-09-06  379.74  64.64  71.15\n",
       " 2011-09-07  383.93  65.43  73.65\n",
       " 2011-09-08  384.14  64.95  72.82\n",
       " 2011-09-09  377.48  63.64  71.01\n",
       " 2011-09-12  379.94  63.59  71.84,\n",
       "                   AAPL         JNJ         XOM\n",
       " 2011-09-06  18173500.0  15848300.0  25416300.0\n",
       " 2011-09-07  12492000.0  10759700.0  23108400.0\n",
       " 2011-09-08  14839800.0  15551500.0  22434800.0\n",
       " 2011-09-09  20171900.0  17008200.0  27969100.0\n",
       " 2011-09-12  16697300.0  13448200.0  26205800.0)"
      ]
     },
     "execution_count": 12,
     "metadata": {},
     "output_type": "execute_result"
    }
   ],
   "source": [
    "prices.align(volume, join='inner')"
   ]
  },
  {
   "cell_type": "code",
   "execution_count": 13,
   "metadata": {},
   "outputs": [
    {
     "data": {
      "text/html": [
       "<div>\n",
       "<style scoped>\n",
       "    .dataframe tbody tr th:only-of-type {\n",
       "        vertical-align: middle;\n",
       "    }\n",
       "\n",
       "    .dataframe tbody tr th {\n",
       "        vertical-align: top;\n",
       "    }\n",
       "\n",
       "    .dataframe thead th {\n",
       "        text-align: right;\n",
       "    }\n",
       "</style>\n",
       "<table border=\"1\" class=\"dataframe\">\n",
       "  <thead>\n",
       "    <tr style=\"text-align: right;\">\n",
       "      <th></th>\n",
       "      <th>one</th>\n",
       "      <th>two</th>\n",
       "      <th>three</th>\n",
       "    </tr>\n",
       "  </thead>\n",
       "  <tbody>\n",
       "    <tr>\n",
       "      <th>a</th>\n",
       "      <td>0.0</td>\n",
       "      <td>NaN</td>\n",
       "      <td>1.0</td>\n",
       "    </tr>\n",
       "    <tr>\n",
       "      <th>b</th>\n",
       "      <td>1.0</td>\n",
       "      <td>1.0</td>\n",
       "      <td>NaN</td>\n",
       "    </tr>\n",
       "    <tr>\n",
       "      <th>c</th>\n",
       "      <td>2.0</td>\n",
       "      <td>2.0</td>\n",
       "      <td>2.0</td>\n",
       "    </tr>\n",
       "    <tr>\n",
       "      <th>d</th>\n",
       "      <td>NaN</td>\n",
       "      <td>0.0</td>\n",
       "      <td>NaN</td>\n",
       "    </tr>\n",
       "    <tr>\n",
       "      <th>e</th>\n",
       "      <td>NaN</td>\n",
       "      <td>3.0</td>\n",
       "      <td>NaN</td>\n",
       "    </tr>\n",
       "    <tr>\n",
       "      <th>f</th>\n",
       "      <td>NaN</td>\n",
       "      <td>NaN</td>\n",
       "      <td>0.0</td>\n",
       "    </tr>\n",
       "  </tbody>\n",
       "</table>\n",
       "</div>"
      ],
      "text/plain": [
       "   one  two  three\n",
       "a  0.0  NaN    1.0\n",
       "b  1.0  1.0    NaN\n",
       "c  2.0  2.0    2.0\n",
       "d  NaN  0.0    NaN\n",
       "e  NaN  3.0    NaN\n",
       "f  NaN  NaN    0.0"
      ]
     },
     "execution_count": 13,
     "metadata": {},
     "output_type": "execute_result"
    }
   ],
   "source": [
    "s1 = Series(range(3), index=['a', 'b', 'c'])\n",
    "s2 = Series(range(4), index=['d', 'b', 'c', 'e'])\n",
    "s3 = Series(range(3), index=['f', 'a', 'c'])\n",
    "DataFrame({'one': s1, 'two': s2, 'three': s3})"
   ]
  },
  {
   "cell_type": "code",
   "execution_count": 14,
   "metadata": {},
   "outputs": [
    {
     "data": {
      "text/html": [
       "<div>\n",
       "<style scoped>\n",
       "    .dataframe tbody tr th:only-of-type {\n",
       "        vertical-align: middle;\n",
       "    }\n",
       "\n",
       "    .dataframe tbody tr th {\n",
       "        vertical-align: top;\n",
       "    }\n",
       "\n",
       "    .dataframe thead th {\n",
       "        text-align: right;\n",
       "    }\n",
       "</style>\n",
       "<table border=\"1\" class=\"dataframe\">\n",
       "  <thead>\n",
       "    <tr style=\"text-align: right;\">\n",
       "      <th></th>\n",
       "      <th>one</th>\n",
       "      <th>two</th>\n",
       "      <th>three</th>\n",
       "    </tr>\n",
       "  </thead>\n",
       "  <tbody>\n",
       "    <tr>\n",
       "      <th>f</th>\n",
       "      <td>NaN</td>\n",
       "      <td>NaN</td>\n",
       "      <td>0.0</td>\n",
       "    </tr>\n",
       "    <tr>\n",
       "      <th>a</th>\n",
       "      <td>0.0</td>\n",
       "      <td>NaN</td>\n",
       "      <td>1.0</td>\n",
       "    </tr>\n",
       "    <tr>\n",
       "      <th>c</th>\n",
       "      <td>2.0</td>\n",
       "      <td>2.0</td>\n",
       "      <td>2.0</td>\n",
       "    </tr>\n",
       "    <tr>\n",
       "      <th>e</th>\n",
       "      <td>NaN</td>\n",
       "      <td>3.0</td>\n",
       "      <td>NaN</td>\n",
       "    </tr>\n",
       "  </tbody>\n",
       "</table>\n",
       "</div>"
      ],
      "text/plain": [
       "   one  two  three\n",
       "f  NaN  NaN    0.0\n",
       "a  0.0  NaN    1.0\n",
       "c  2.0  2.0    2.0\n",
       "e  NaN  3.0    NaN"
      ]
     },
     "execution_count": 14,
     "metadata": {},
     "output_type": "execute_result"
    }
   ],
   "source": [
    "DataFrame({'one': s1, 'two': s2, 'three': s3}, index=list('face'))"
   ]
  },
  {
   "cell_type": "markdown",
   "metadata": {},
   "source": [
    "### Operations with time series of different frequencies"
   ]
  },
  {
   "cell_type": "code",
   "execution_count": 15,
   "metadata": {},
   "outputs": [
    {
     "data": {
      "text/plain": [
       "2012-06-13   -0.621454\n",
       "2012-06-20    0.407264\n",
       "2012-06-27   -1.472403\n",
       "Freq: W-WED, dtype: float64"
      ]
     },
     "execution_count": 15,
     "metadata": {},
     "output_type": "execute_result"
    }
   ],
   "source": [
    "ts1 = Series(np.random.randn(3),\n",
    "             index=pd.date_range('2012-6-13', periods=3, freq='W-WED'))\n",
    "ts1"
   ]
  },
  {
   "cell_type": "code",
   "execution_count": 16,
   "metadata": {},
   "outputs": [
    {
     "data": {
      "text/plain": [
       "DatetimeIndexResampler [freq=<BusinessDay>, axis=0, closed=left, label=left, convention=start, base=0]"
      ]
     },
     "execution_count": 16,
     "metadata": {},
     "output_type": "execute_result"
    }
   ],
   "source": [
    "ts1.resample('B')"
   ]
  },
  {
   "cell_type": "code",
   "execution_count": 17,
   "metadata": {},
   "outputs": [
    {
     "data": {
      "text/plain": [
       "2012-06-13   -0.621454\n",
       "2012-06-14   -0.621454\n",
       "2012-06-15   -0.621454\n",
       "2012-06-18   -0.621454\n",
       "2012-06-19   -0.621454\n",
       "2012-06-20    0.407264\n",
       "2012-06-21    0.407264\n",
       "2012-06-22    0.407264\n",
       "2012-06-25    0.407264\n",
       "2012-06-26    0.407264\n",
       "2012-06-27   -1.472403\n",
       "Freq: B, dtype: float64"
      ]
     },
     "execution_count": 17,
     "metadata": {},
     "output_type": "execute_result"
    }
   ],
   "source": [
    "ts1.resample('B').ffill()"
   ]
  },
  {
   "cell_type": "code",
   "execution_count": 18,
   "metadata": {},
   "outputs": [
    {
     "data": {
      "text/plain": [
       "2012-06-12    0.650115\n",
       "2012-06-17    0.882065\n",
       "2012-06-18   -0.572277\n",
       "2012-06-21   -0.208151\n",
       "2012-06-22   -0.940863\n",
       "2012-06-29    0.201432\n",
       "dtype: float64"
      ]
     },
     "execution_count": 18,
     "metadata": {},
     "output_type": "execute_result"
    }
   ],
   "source": [
    "dates = pd.DatetimeIndex(['2012-6-12', '2012-6-17', '2012-6-18',\n",
    "                          '2012-6-21', '2012-6-22', '2012-6-29'])\n",
    "ts2 = Series(np.random.randn(6), index=dates)\n",
    "ts2"
   ]
  },
  {
   "cell_type": "code",
   "execution_count": 19,
   "metadata": {},
   "outputs": [
    {
     "data": {
      "text/plain": [
       "2012-06-12         NaN\n",
       "2012-06-17   -0.621454\n",
       "2012-06-18   -0.621454\n",
       "2012-06-21    0.407264\n",
       "2012-06-22    0.407264\n",
       "2012-06-29   -1.472403\n",
       "dtype: float64"
      ]
     },
     "execution_count": 19,
     "metadata": {},
     "output_type": "execute_result"
    }
   ],
   "source": [
    "ts1.reindex(ts2.index,method='ffill')"
   ]
  },
  {
   "cell_type": "code",
   "execution_count": 20,
   "metadata": {},
   "outputs": [
    {
     "data": {
      "text/plain": [
       "2012-06-12         NaN\n",
       "2012-06-17    0.260611\n",
       "2012-06-18   -1.193731\n",
       "2012-06-21    0.199113\n",
       "2012-06-22   -0.533599\n",
       "2012-06-29   -1.270971\n",
       "dtype: float64"
      ]
     },
     "execution_count": 20,
     "metadata": {},
     "output_type": "execute_result"
    }
   ],
   "source": [
    "ts2 + ts1.reindex(ts2.index, method='ffill')"
   ]
  },
  {
   "cell_type": "markdown",
   "metadata": {},
   "source": [
    "#### Using periods instead of timestamps"
   ]
  },
  {
   "cell_type": "code",
   "execution_count": 21,
   "metadata": {},
   "outputs": [
    {
     "data": {
      "text/plain": [
       "1984Q2    1.78\n",
       "1984Q3    1.94\n",
       "1984Q4    2.08\n",
       "1985Q1    2.01\n",
       "1985Q2    2.15\n",
       "1985Q3    2.31\n",
       "1985Q4    2.46\n",
       "Freq: Q-SEP, dtype: float64"
      ]
     },
     "execution_count": 21,
     "metadata": {},
     "output_type": "execute_result"
    }
   ],
   "source": [
    "gdp = Series([1.78, 1.94, 2.08, 2.01, 2.15, 2.31, 2.46],\n",
    "             index=pd.period_range('1984Q2', periods=7, freq='Q-SEP'))\n",
    "infl = Series([0.025, 0.045, 0.037, 0.04],\n",
    "              index=pd.period_range('1982', periods=4, freq='A-DEC'))\n",
    "gdp"
   ]
  },
  {
   "cell_type": "code",
   "execution_count": 22,
   "metadata": {},
   "outputs": [
    {
     "data": {
      "text/plain": [
       "1982    0.025\n",
       "1983    0.045\n",
       "1984    0.037\n",
       "1985    0.040\n",
       "Freq: A-DEC, dtype: float64"
      ]
     },
     "execution_count": 22,
     "metadata": {},
     "output_type": "execute_result"
    }
   ],
   "source": [
    "infl"
   ]
  },
  {
   "cell_type": "code",
   "execution_count": 23,
   "metadata": {},
   "outputs": [],
   "source": [
    "infl_q = infl.asfreq('Q-SEP', how='end')"
   ]
  },
  {
   "cell_type": "code",
   "execution_count": 24,
   "metadata": {},
   "outputs": [
    {
     "data": {
      "text/plain": [
       "1983Q1    0.025\n",
       "1984Q1    0.045\n",
       "1985Q1    0.037\n",
       "1986Q1    0.040\n",
       "Freq: Q-SEP, dtype: float64"
      ]
     },
     "execution_count": 24,
     "metadata": {},
     "output_type": "execute_result"
    }
   ],
   "source": [
    "infl_q"
   ]
  },
  {
   "cell_type": "code",
   "execution_count": 25,
   "metadata": {},
   "outputs": [
    {
     "data": {
      "text/plain": [
       "1984Q2    0.045\n",
       "1984Q3    0.045\n",
       "1984Q4    0.045\n",
       "1985Q1    0.037\n",
       "1985Q2    0.037\n",
       "1985Q3    0.037\n",
       "1985Q4    0.037\n",
       "Freq: Q-SEP, dtype: float64"
      ]
     },
     "execution_count": 25,
     "metadata": {},
     "output_type": "execute_result"
    }
   ],
   "source": [
    "infl_q.reindex(gdp.index, method='ffill')"
   ]
  },
  {
   "cell_type": "markdown",
   "metadata": {},
   "source": [
    "### Time of day and \"as of\" data selection"
   ]
  },
  {
   "cell_type": "code",
   "execution_count": 26,
   "metadata": {},
   "outputs": [
    {
     "data": {
      "text/plain": [
       "2012-06-01 09:30:00       0.0\n",
       "2012-06-01 09:31:00       1.0\n",
       "2012-06-01 09:32:00       2.0\n",
       "2012-06-01 09:33:00       3.0\n",
       "2012-06-01 09:34:00       4.0\n",
       "2012-06-01 09:35:00       5.0\n",
       "                        ...  \n",
       "2012-06-06 15:54:00    1554.0\n",
       "2012-06-06 15:55:00    1555.0\n",
       "2012-06-06 15:56:00    1556.0\n",
       "2012-06-06 15:57:00    1557.0\n",
       "2012-06-06 15:58:00    1558.0\n",
       "2012-06-06 15:59:00    1559.0\n",
       "Length: 1560, dtype: float64"
      ]
     },
     "execution_count": 26,
     "metadata": {},
     "output_type": "execute_result"
    }
   ],
   "source": [
    "# Make an intraday date range and time series\n",
    "rng = pd.date_range('2012-06-01 09:30', '2012-06-01 15:59', freq='T')\n",
    "# Make a 5-day series of 9:30-15:59 values\n",
    "rng = rng.append([rng + pd.offsets.BDay(i) for i in range(1, 4)])\n",
    "ts = Series(np.arange(len(rng), dtype=float), index=rng)\n",
    "ts"
   ]
  },
  {
   "cell_type": "code",
   "execution_count": 27,
   "metadata": {},
   "outputs": [
    {
     "data": {
      "text/plain": [
       "2012-06-01 10:00:00      30.0\n",
       "2012-06-04 10:00:00     420.0\n",
       "2012-06-05 10:00:00     810.0\n",
       "2012-06-06 10:00:00    1200.0\n",
       "dtype: float64"
      ]
     },
     "execution_count": 27,
     "metadata": {},
     "output_type": "execute_result"
    }
   ],
   "source": [
    "from datetime import time\n",
    "ts[time(10, 0)]"
   ]
  },
  {
   "cell_type": "code",
   "execution_count": 28,
   "metadata": {},
   "outputs": [
    {
     "data": {
      "text/plain": [
       "datetime.time(10, 0)"
      ]
     },
     "execution_count": 28,
     "metadata": {},
     "output_type": "execute_result"
    }
   ],
   "source": [
    "time(10, 0)"
   ]
  },
  {
   "cell_type": "code",
   "execution_count": 29,
   "metadata": {},
   "outputs": [
    {
     "data": {
      "text/plain": [
       "2012-06-01 10:00:00      30.0\n",
       "2012-06-04 10:00:00     420.0\n",
       "2012-06-05 10:00:00     810.0\n",
       "2012-06-06 10:00:00    1200.0\n",
       "dtype: float64"
      ]
     },
     "execution_count": 29,
     "metadata": {},
     "output_type": "execute_result"
    }
   ],
   "source": [
    "ts.at_time(time(10, 0))"
   ]
  },
  {
   "cell_type": "code",
   "execution_count": 30,
   "metadata": {},
   "outputs": [
    {
     "data": {
      "text/plain": [
       "2012-06-01 10:00:00      30.0\n",
       "2012-06-01 10:01:00      31.0\n",
       "2012-06-04 10:00:00     420.0\n",
       "2012-06-04 10:01:00     421.0\n",
       "2012-06-05 10:00:00     810.0\n",
       "2012-06-05 10:01:00     811.0\n",
       "2012-06-06 10:00:00    1200.0\n",
       "2012-06-06 10:01:00    1201.0\n",
       "dtype: float64"
      ]
     },
     "execution_count": 30,
     "metadata": {},
     "output_type": "execute_result"
    }
   ],
   "source": [
    "ts.between_time(time(10, 0), time(10, 1))"
   ]
  },
  {
   "cell_type": "code",
   "execution_count": 31,
   "metadata": {},
   "outputs": [],
   "source": [
    "np.random.seed(12346)"
   ]
  },
  {
   "cell_type": "code",
   "execution_count": 32,
   "metadata": {},
   "outputs": [
    {
     "data": {
      "text/plain": [
       "2012-06-01 09:50:00    20.0\n",
       "2012-06-01 09:51:00     NaN\n",
       "2012-06-01 09:52:00    22.0\n",
       "2012-06-01 09:53:00    23.0\n",
       "2012-06-01 09:54:00     NaN\n",
       "2012-06-01 09:55:00    25.0\n",
       "2012-06-01 09:56:00     NaN\n",
       "2012-06-01 09:57:00     NaN\n",
       "2012-06-01 09:58:00     NaN\n",
       "2012-06-01 09:59:00     NaN\n",
       "2012-06-01 10:00:00     NaN\n",
       "dtype: float64"
      ]
     },
     "execution_count": 32,
     "metadata": {},
     "output_type": "execute_result"
    }
   ],
   "source": [
    "# Set most of the time series randomly to NA\n",
    "indexer = np.sort(np.random.permutation(len(ts))[700:])\n",
    "irr_ts = ts.copy()\n",
    "irr_ts[indexer] = np.nan\n",
    "irr_ts['2012-06-01 09:50':'2012-06-01 10:00']"
   ]
  },
  {
   "cell_type": "code",
   "execution_count": 33,
   "metadata": {},
   "outputs": [
    {
     "data": {
      "text/plain": [
       "2012-06-01 10:00:00      25.0\n",
       "2012-06-04 10:00:00     420.0\n",
       "2012-06-05 10:00:00     810.0\n",
       "2012-06-06 10:00:00    1197.0\n",
       "Freq: B, dtype: float64"
      ]
     },
     "execution_count": 33,
     "metadata": {},
     "output_type": "execute_result"
    }
   ],
   "source": [
    "selection = pd.date_range('2012-06-01 10:00', periods=4, freq='B')\n",
    "irr_ts.asof(selection)"
   ]
  },
  {
   "cell_type": "markdown",
   "metadata": {},
   "source": [
    "### Splicing together data sources"
   ]
  },
  {
   "cell_type": "code",
   "execution_count": 34,
   "metadata": {},
   "outputs": [
    {
     "data": {
      "text/html": [
       "<div>\n",
       "<style scoped>\n",
       "    .dataframe tbody tr th:only-of-type {\n",
       "        vertical-align: middle;\n",
       "    }\n",
       "\n",
       "    .dataframe tbody tr th {\n",
       "        vertical-align: top;\n",
       "    }\n",
       "\n",
       "    .dataframe thead th {\n",
       "        text-align: right;\n",
       "    }\n",
       "</style>\n",
       "<table border=\"1\" class=\"dataframe\">\n",
       "  <thead>\n",
       "    <tr style=\"text-align: right;\">\n",
       "      <th></th>\n",
       "      <th>a</th>\n",
       "      <th>b</th>\n",
       "      <th>c</th>\n",
       "    </tr>\n",
       "  </thead>\n",
       "  <tbody>\n",
       "    <tr>\n",
       "      <th>2012-06-12</th>\n",
       "      <td>1.0</td>\n",
       "      <td>1.0</td>\n",
       "      <td>1.0</td>\n",
       "    </tr>\n",
       "    <tr>\n",
       "      <th>2012-06-13</th>\n",
       "      <td>1.0</td>\n",
       "      <td>1.0</td>\n",
       "      <td>1.0</td>\n",
       "    </tr>\n",
       "    <tr>\n",
       "      <th>2012-06-14</th>\n",
       "      <td>1.0</td>\n",
       "      <td>1.0</td>\n",
       "      <td>1.0</td>\n",
       "    </tr>\n",
       "    <tr>\n",
       "      <th>2012-06-15</th>\n",
       "      <td>2.0</td>\n",
       "      <td>2.0</td>\n",
       "      <td>2.0</td>\n",
       "    </tr>\n",
       "    <tr>\n",
       "      <th>2012-06-16</th>\n",
       "      <td>2.0</td>\n",
       "      <td>2.0</td>\n",
       "      <td>2.0</td>\n",
       "    </tr>\n",
       "    <tr>\n",
       "      <th>2012-06-17</th>\n",
       "      <td>2.0</td>\n",
       "      <td>2.0</td>\n",
       "      <td>2.0</td>\n",
       "    </tr>\n",
       "    <tr>\n",
       "      <th>2012-06-18</th>\n",
       "      <td>2.0</td>\n",
       "      <td>2.0</td>\n",
       "      <td>2.0</td>\n",
       "    </tr>\n",
       "  </tbody>\n",
       "</table>\n",
       "</div>"
      ],
      "text/plain": [
       "              a    b    c\n",
       "2012-06-12  1.0  1.0  1.0\n",
       "2012-06-13  1.0  1.0  1.0\n",
       "2012-06-14  1.0  1.0  1.0\n",
       "2012-06-15  2.0  2.0  2.0\n",
       "2012-06-16  2.0  2.0  2.0\n",
       "2012-06-17  2.0  2.0  2.0\n",
       "2012-06-18  2.0  2.0  2.0"
      ]
     },
     "execution_count": 34,
     "metadata": {},
     "output_type": "execute_result"
    }
   ],
   "source": [
    "data1 = DataFrame(np.ones((6, 3), dtype=float),\n",
    "                  columns=['a', 'b', 'c'],\n",
    "                  index=pd.date_range('6/12/2012', periods=6))\n",
    "data2 = DataFrame(np.ones((6, 3), dtype=float) * 2,\n",
    "                  columns=['a', 'b', 'c'],\n",
    "                  index=pd.date_range('6/13/2012', periods=6))\n",
    "spliced = pd.concat([data1.loc[:'2012-06-14'], data2.loc['2012-06-15':]])\n",
    "spliced"
   ]
  },
  {
   "cell_type": "code",
   "execution_count": 35,
   "metadata": {},
   "outputs": [
    {
     "data": {
      "text/html": [
       "<div>\n",
       "<style scoped>\n",
       "    .dataframe tbody tr th:only-of-type {\n",
       "        vertical-align: middle;\n",
       "    }\n",
       "\n",
       "    .dataframe tbody tr th {\n",
       "        vertical-align: top;\n",
       "    }\n",
       "\n",
       "    .dataframe thead th {\n",
       "        text-align: right;\n",
       "    }\n",
       "</style>\n",
       "<table border=\"1\" class=\"dataframe\">\n",
       "  <thead>\n",
       "    <tr style=\"text-align: right;\">\n",
       "      <th></th>\n",
       "      <th>a</th>\n",
       "      <th>b</th>\n",
       "      <th>c</th>\n",
       "      <th>d</th>\n",
       "    </tr>\n",
       "  </thead>\n",
       "  <tbody>\n",
       "    <tr>\n",
       "      <th>2012-06-12</th>\n",
       "      <td>1.0</td>\n",
       "      <td>1.0</td>\n",
       "      <td>1.0</td>\n",
       "      <td>NaN</td>\n",
       "    </tr>\n",
       "    <tr>\n",
       "      <th>2012-06-13</th>\n",
       "      <td>1.0</td>\n",
       "      <td>1.0</td>\n",
       "      <td>1.0</td>\n",
       "      <td>NaN</td>\n",
       "    </tr>\n",
       "    <tr>\n",
       "      <th>2012-06-14</th>\n",
       "      <td>1.0</td>\n",
       "      <td>1.0</td>\n",
       "      <td>1.0</td>\n",
       "      <td>NaN</td>\n",
       "    </tr>\n",
       "    <tr>\n",
       "      <th>2012-06-15</th>\n",
       "      <td>2.0</td>\n",
       "      <td>2.0</td>\n",
       "      <td>2.0</td>\n",
       "      <td>2.0</td>\n",
       "    </tr>\n",
       "    <tr>\n",
       "      <th>2012-06-16</th>\n",
       "      <td>2.0</td>\n",
       "      <td>2.0</td>\n",
       "      <td>2.0</td>\n",
       "      <td>2.0</td>\n",
       "    </tr>\n",
       "    <tr>\n",
       "      <th>2012-06-17</th>\n",
       "      <td>2.0</td>\n",
       "      <td>2.0</td>\n",
       "      <td>2.0</td>\n",
       "      <td>2.0</td>\n",
       "    </tr>\n",
       "    <tr>\n",
       "      <th>2012-06-18</th>\n",
       "      <td>2.0</td>\n",
       "      <td>2.0</td>\n",
       "      <td>2.0</td>\n",
       "      <td>2.0</td>\n",
       "    </tr>\n",
       "  </tbody>\n",
       "</table>\n",
       "</div>"
      ],
      "text/plain": [
       "              a    b    c    d\n",
       "2012-06-12  1.0  1.0  1.0  NaN\n",
       "2012-06-13  1.0  1.0  1.0  NaN\n",
       "2012-06-14  1.0  1.0  1.0  NaN\n",
       "2012-06-15  2.0  2.0  2.0  2.0\n",
       "2012-06-16  2.0  2.0  2.0  2.0\n",
       "2012-06-17  2.0  2.0  2.0  2.0\n",
       "2012-06-18  2.0  2.0  2.0  2.0"
      ]
     },
     "execution_count": 35,
     "metadata": {},
     "output_type": "execute_result"
    }
   ],
   "source": [
    "data2 = DataFrame(np.ones((6, 4), dtype=float) * 2,\n",
    "                  columns=['a', 'b', 'c', 'd'],\n",
    "                  index=pd.date_range('6/13/2012', periods=6))\n",
    "spliced = pd.concat([data1.loc[:'2012-06-14'], data2.loc['2012-06-15':]],sort=True)\n",
    "spliced"
   ]
  },
  {
   "cell_type": "code",
   "execution_count": 36,
   "metadata": {},
   "outputs": [
    {
     "data": {
      "text/html": [
       "<div>\n",
       "<style scoped>\n",
       "    .dataframe tbody tr th:only-of-type {\n",
       "        vertical-align: middle;\n",
       "    }\n",
       "\n",
       "    .dataframe tbody tr th {\n",
       "        vertical-align: top;\n",
       "    }\n",
       "\n",
       "    .dataframe thead th {\n",
       "        text-align: right;\n",
       "    }\n",
       "</style>\n",
       "<table border=\"1\" class=\"dataframe\">\n",
       "  <thead>\n",
       "    <tr style=\"text-align: right;\">\n",
       "      <th></th>\n",
       "      <th>a</th>\n",
       "      <th>b</th>\n",
       "      <th>c</th>\n",
       "      <th>d</th>\n",
       "    </tr>\n",
       "  </thead>\n",
       "  <tbody>\n",
       "    <tr>\n",
       "      <th>2012-06-12</th>\n",
       "      <td>1.0</td>\n",
       "      <td>1.0</td>\n",
       "      <td>1.0</td>\n",
       "      <td>NaN</td>\n",
       "    </tr>\n",
       "    <tr>\n",
       "      <th>2012-06-13</th>\n",
       "      <td>1.0</td>\n",
       "      <td>1.0</td>\n",
       "      <td>1.0</td>\n",
       "      <td>2.0</td>\n",
       "    </tr>\n",
       "    <tr>\n",
       "      <th>2012-06-14</th>\n",
       "      <td>1.0</td>\n",
       "      <td>1.0</td>\n",
       "      <td>1.0</td>\n",
       "      <td>2.0</td>\n",
       "    </tr>\n",
       "    <tr>\n",
       "      <th>2012-06-15</th>\n",
       "      <td>2.0</td>\n",
       "      <td>2.0</td>\n",
       "      <td>2.0</td>\n",
       "      <td>2.0</td>\n",
       "    </tr>\n",
       "    <tr>\n",
       "      <th>2012-06-16</th>\n",
       "      <td>2.0</td>\n",
       "      <td>2.0</td>\n",
       "      <td>2.0</td>\n",
       "      <td>2.0</td>\n",
       "    </tr>\n",
       "    <tr>\n",
       "      <th>2012-06-17</th>\n",
       "      <td>2.0</td>\n",
       "      <td>2.0</td>\n",
       "      <td>2.0</td>\n",
       "      <td>2.0</td>\n",
       "    </tr>\n",
       "    <tr>\n",
       "      <th>2012-06-18</th>\n",
       "      <td>2.0</td>\n",
       "      <td>2.0</td>\n",
       "      <td>2.0</td>\n",
       "      <td>2.0</td>\n",
       "    </tr>\n",
       "  </tbody>\n",
       "</table>\n",
       "</div>"
      ],
      "text/plain": [
       "              a    b    c    d\n",
       "2012-06-12  1.0  1.0  1.0  NaN\n",
       "2012-06-13  1.0  1.0  1.0  2.0\n",
       "2012-06-14  1.0  1.0  1.0  2.0\n",
       "2012-06-15  2.0  2.0  2.0  2.0\n",
       "2012-06-16  2.0  2.0  2.0  2.0\n",
       "2012-06-17  2.0  2.0  2.0  2.0\n",
       "2012-06-18  2.0  2.0  2.0  2.0"
      ]
     },
     "execution_count": 36,
     "metadata": {},
     "output_type": "execute_result"
    }
   ],
   "source": [
    "spliced_filled = spliced.combine_first(data2)\n",
    "spliced_filled"
   ]
  },
  {
   "cell_type": "code",
   "execution_count": 37,
   "metadata": {},
   "outputs": [],
   "source": [
    "spliced.update(data2, overwrite=False)"
   ]
  },
  {
   "cell_type": "code",
   "execution_count": 38,
   "metadata": {},
   "outputs": [
    {
     "data": {
      "text/html": [
       "<div>\n",
       "<style scoped>\n",
       "    .dataframe tbody tr th:only-of-type {\n",
       "        vertical-align: middle;\n",
       "    }\n",
       "\n",
       "    .dataframe tbody tr th {\n",
       "        vertical-align: top;\n",
       "    }\n",
       "\n",
       "    .dataframe thead th {\n",
       "        text-align: right;\n",
       "    }\n",
       "</style>\n",
       "<table border=\"1\" class=\"dataframe\">\n",
       "  <thead>\n",
       "    <tr style=\"text-align: right;\">\n",
       "      <th></th>\n",
       "      <th>a</th>\n",
       "      <th>b</th>\n",
       "      <th>c</th>\n",
       "      <th>d</th>\n",
       "    </tr>\n",
       "  </thead>\n",
       "  <tbody>\n",
       "    <tr>\n",
       "      <th>2012-06-12</th>\n",
       "      <td>1.0</td>\n",
       "      <td>1.0</td>\n",
       "      <td>1.0</td>\n",
       "      <td>NaN</td>\n",
       "    </tr>\n",
       "    <tr>\n",
       "      <th>2012-06-13</th>\n",
       "      <td>1.0</td>\n",
       "      <td>1.0</td>\n",
       "      <td>1.0</td>\n",
       "      <td>2.0</td>\n",
       "    </tr>\n",
       "    <tr>\n",
       "      <th>2012-06-14</th>\n",
       "      <td>1.0</td>\n",
       "      <td>1.0</td>\n",
       "      <td>1.0</td>\n",
       "      <td>2.0</td>\n",
       "    </tr>\n",
       "    <tr>\n",
       "      <th>2012-06-15</th>\n",
       "      <td>2.0</td>\n",
       "      <td>2.0</td>\n",
       "      <td>2.0</td>\n",
       "      <td>2.0</td>\n",
       "    </tr>\n",
       "    <tr>\n",
       "      <th>2012-06-16</th>\n",
       "      <td>2.0</td>\n",
       "      <td>2.0</td>\n",
       "      <td>2.0</td>\n",
       "      <td>2.0</td>\n",
       "    </tr>\n",
       "    <tr>\n",
       "      <th>2012-06-17</th>\n",
       "      <td>2.0</td>\n",
       "      <td>2.0</td>\n",
       "      <td>2.0</td>\n",
       "      <td>2.0</td>\n",
       "    </tr>\n",
       "    <tr>\n",
       "      <th>2012-06-18</th>\n",
       "      <td>2.0</td>\n",
       "      <td>2.0</td>\n",
       "      <td>2.0</td>\n",
       "      <td>2.0</td>\n",
       "    </tr>\n",
       "  </tbody>\n",
       "</table>\n",
       "</div>"
      ],
      "text/plain": [
       "              a    b    c    d\n",
       "2012-06-12  1.0  1.0  1.0  NaN\n",
       "2012-06-13  1.0  1.0  1.0  2.0\n",
       "2012-06-14  1.0  1.0  1.0  2.0\n",
       "2012-06-15  2.0  2.0  2.0  2.0\n",
       "2012-06-16  2.0  2.0  2.0  2.0\n",
       "2012-06-17  2.0  2.0  2.0  2.0\n",
       "2012-06-18  2.0  2.0  2.0  2.0"
      ]
     },
     "execution_count": 38,
     "metadata": {},
     "output_type": "execute_result"
    }
   ],
   "source": [
    "spliced"
   ]
  },
  {
   "cell_type": "code",
   "execution_count": 39,
   "metadata": {},
   "outputs": [
    {
     "data": {
      "text/html": [
       "<div>\n",
       "<style scoped>\n",
       "    .dataframe tbody tr th:only-of-type {\n",
       "        vertical-align: middle;\n",
       "    }\n",
       "\n",
       "    .dataframe tbody tr th {\n",
       "        vertical-align: top;\n",
       "    }\n",
       "\n",
       "    .dataframe thead th {\n",
       "        text-align: right;\n",
       "    }\n",
       "</style>\n",
       "<table border=\"1\" class=\"dataframe\">\n",
       "  <thead>\n",
       "    <tr style=\"text-align: right;\">\n",
       "      <th></th>\n",
       "      <th>a</th>\n",
       "      <th>b</th>\n",
       "      <th>c</th>\n",
       "      <th>d</th>\n",
       "    </tr>\n",
       "  </thead>\n",
       "  <tbody>\n",
       "    <tr>\n",
       "      <th>2012-06-12</th>\n",
       "      <td>1.0</td>\n",
       "      <td>1.0</td>\n",
       "      <td>1.0</td>\n",
       "      <td>NaN</td>\n",
       "    </tr>\n",
       "    <tr>\n",
       "      <th>2012-06-13</th>\n",
       "      <td>1.0</td>\n",
       "      <td>1.0</td>\n",
       "      <td>1.0</td>\n",
       "      <td>2.0</td>\n",
       "    </tr>\n",
       "    <tr>\n",
       "      <th>2012-06-14</th>\n",
       "      <td>1.0</td>\n",
       "      <td>1.0</td>\n",
       "      <td>1.0</td>\n",
       "      <td>2.0</td>\n",
       "    </tr>\n",
       "    <tr>\n",
       "      <th>2012-06-15</th>\n",
       "      <td>1.0</td>\n",
       "      <td>2.0</td>\n",
       "      <td>1.0</td>\n",
       "      <td>2.0</td>\n",
       "    </tr>\n",
       "    <tr>\n",
       "      <th>2012-06-16</th>\n",
       "      <td>1.0</td>\n",
       "      <td>2.0</td>\n",
       "      <td>1.0</td>\n",
       "      <td>2.0</td>\n",
       "    </tr>\n",
       "    <tr>\n",
       "      <th>2012-06-17</th>\n",
       "      <td>1.0</td>\n",
       "      <td>2.0</td>\n",
       "      <td>1.0</td>\n",
       "      <td>2.0</td>\n",
       "    </tr>\n",
       "    <tr>\n",
       "      <th>2012-06-18</th>\n",
       "      <td>NaN</td>\n",
       "      <td>2.0</td>\n",
       "      <td>NaN</td>\n",
       "      <td>2.0</td>\n",
       "    </tr>\n",
       "  </tbody>\n",
       "</table>\n",
       "</div>"
      ],
      "text/plain": [
       "              a    b    c    d\n",
       "2012-06-12  1.0  1.0  1.0  NaN\n",
       "2012-06-13  1.0  1.0  1.0  2.0\n",
       "2012-06-14  1.0  1.0  1.0  2.0\n",
       "2012-06-15  1.0  2.0  1.0  2.0\n",
       "2012-06-16  1.0  2.0  1.0  2.0\n",
       "2012-06-17  1.0  2.0  1.0  2.0\n",
       "2012-06-18  NaN  2.0  NaN  2.0"
      ]
     },
     "execution_count": 39,
     "metadata": {},
     "output_type": "execute_result"
    }
   ],
   "source": [
    "cp_spliced = spliced.copy()\n",
    "cp_spliced[['a', 'c']] = data1[['a', 'c']]\n",
    "cp_spliced"
   ]
  },
  {
   "cell_type": "markdown",
   "metadata": {},
   "source": [
    "### Return indexes and cumulative returns"
   ]
  },
  {
   "cell_type": "code",
   "execution_count": 40,
   "metadata": {},
   "outputs": [
    {
     "data": {
      "text/plain": [
       "Date\n",
       "2019-02-26    174.330002\n",
       "2019-02-27    174.869995\n",
       "2019-02-28    173.149994\n",
       "2019-03-01    174.970001\n",
       "2019-03-04    175.559998\n",
       "Name: Adj Close, dtype: float64"
      ]
     },
     "execution_count": 40,
     "metadata": {},
     "output_type": "execute_result"
    }
   ],
   "source": [
    "from pandas_datareader import data as web\n",
    "price = web.get_data_yahoo('AAPL', '2011-01-01')['Adj Close']\n",
    "price[-5:]"
   ]
  },
  {
   "cell_type": "code",
   "execution_count": 41,
   "metadata": {},
   "outputs": [
    {
     "data": {
      "text/plain": [
       "0.07239978208562214"
      ]
     },
     "execution_count": 41,
     "metadata": {},
     "output_type": "execute_result"
    }
   ],
   "source": [
    "price['2011-10-03'] / price['2011-3-01'] - 1"
   ]
  },
  {
   "cell_type": "code",
   "execution_count": 42,
   "metadata": {},
   "outputs": [
    {
     "data": {
      "text/plain": [
       "Date\n",
       "2011-01-03    1.000000\n",
       "2011-01-04    1.005219\n",
       "2011-01-05    1.013442\n",
       "2011-01-06    1.012622\n",
       "2011-01-07    1.019874\n",
       "2011-01-10    1.039081\n",
       "                ...   \n",
       "2019-02-25    5.549779\n",
       "2019-02-26    5.552965\n",
       "2019-02-27    5.570165\n",
       "2019-02-28    5.515378\n",
       "2019-03-01    5.573351\n",
       "2019-03-04    5.592144\n",
       "Name: Adj Close, Length: 2054, dtype: float64"
      ]
     },
     "execution_count": 42,
     "metadata": {},
     "output_type": "execute_result"
    }
   ],
   "source": [
    "returns = price.pct_change()\n",
    "ret_index = (1 + returns).cumprod()\n",
    "ret_index[0] = 1  # Set first value to 1\n",
    "ret_index"
   ]
  },
  {
   "cell_type": "code",
   "execution_count": 43,
   "metadata": {},
   "outputs": [
    {
     "data": {
      "text/plain": [
       "Date\n",
       "2012-01-31    0.127111\n",
       "2012-02-29    0.188311\n",
       "2012-03-30    0.105284\n",
       "2012-04-30   -0.025969\n",
       "2012-05-31   -0.010702\n",
       "2012-06-29    0.010853\n",
       "2012-07-31    0.045822\n",
       "2012-08-31    0.122802\n",
       "2012-09-28    0.002796\n",
       "2012-10-31   -0.107600\n",
       "2012-11-30    0.015453\n",
       "2012-12-31   -0.090743\n",
       "Freq: BM, Name: Adj Close, dtype: float64"
      ]
     },
     "execution_count": 43,
     "metadata": {},
     "output_type": "execute_result"
    }
   ],
   "source": [
    "m_returns = ret_index.resample('BM').last().pct_change()\n",
    "m_returns['2012']"
   ]
  },
  {
   "cell_type": "code",
   "execution_count": 44,
   "metadata": {},
   "outputs": [
    {
     "data": {
      "text/plain": [
       "Date\n",
       "2012-01    0.127111\n",
       "2012-02    0.188311\n",
       "2012-03    0.105284\n",
       "2012-04   -0.025969\n",
       "2012-05   -0.010702\n",
       "2012-06    0.010853\n",
       "2012-07    0.045822\n",
       "2012-08    0.122802\n",
       "2012-09    0.002796\n",
       "2012-10   -0.107600\n",
       "2012-11    0.015453\n",
       "2012-12   -0.090743\n",
       "Freq: M, Name: Adj Close, dtype: float64"
      ]
     },
     "execution_count": 44,
     "metadata": {},
     "output_type": "execute_result"
    }
   ],
   "source": [
    "m_rets = (1 + returns).resample('M', kind='period').prod() - 1\n",
    "m_rets['2012']"
   ]
  },
  {
   "cell_type": "raw",
   "metadata": {},
   "source": [
    "returns[dividend_dates] += dividend_pcts"
   ]
  },
  {
   "cell_type": "markdown",
   "metadata": {},
   "source": [
    "## Group transforms and analysis"
   ]
  },
  {
   "cell_type": "code",
   "execution_count": 45,
   "metadata": {},
   "outputs": [],
   "source": [
    "pd.options.display.max_rows = 100\n",
    "pd.options.display.max_columns = 10\n",
    "np.random.seed(12345)"
   ]
  },
  {
   "cell_type": "code",
   "execution_count": 46,
   "metadata": {},
   "outputs": [],
   "source": [
    "import random; random.seed(0)\n",
    "import string\n",
    "\n",
    "N = 1000\n",
    "def rands(n):\n",
    "    choices = string.ascii_uppercase\n",
    "    return ''.join([random.choice(choices) for _ in range(n)])\n",
    "tickers = np.array([rands(5) for _ in range(N)])"
   ]
  },
  {
   "cell_type": "code",
   "execution_count": 47,
   "metadata": {},
   "outputs": [],
   "source": [
    "M = 500\n",
    "df = DataFrame({'Momentum' : np.random.randn(M) / 200 + 0.03,\n",
    "                'Value' : np.random.randn(M) / 200 + 0.08,\n",
    "                'ShortInterest' : np.random.randn(M) / 200 - 0.02},\n",
    "                index=tickers[:M])"
   ]
  },
  {
   "cell_type": "code",
   "execution_count": 48,
   "metadata": {},
   "outputs": [],
   "source": [
    "ind_names = np.array(['FINANCIAL', 'TECH'])\n",
    "sampler = np.random.randint(0, len(ind_names), N)\n",
    "industries = Series(ind_names[sampler], index=tickers,\n",
    "                    name='industry')"
   ]
  },
  {
   "cell_type": "code",
   "execution_count": 49,
   "metadata": {},
   "outputs": [
    {
     "data": {
      "text/html": [
       "<div>\n",
       "<style scoped>\n",
       "    .dataframe tbody tr th:only-of-type {\n",
       "        vertical-align: middle;\n",
       "    }\n",
       "\n",
       "    .dataframe tbody tr th {\n",
       "        vertical-align: top;\n",
       "    }\n",
       "\n",
       "    .dataframe thead th {\n",
       "        text-align: right;\n",
       "    }\n",
       "</style>\n",
       "<table border=\"1\" class=\"dataframe\">\n",
       "  <thead>\n",
       "    <tr style=\"text-align: right;\">\n",
       "      <th></th>\n",
       "      <th>Momentum</th>\n",
       "      <th>Value</th>\n",
       "      <th>ShortInterest</th>\n",
       "    </tr>\n",
       "    <tr>\n",
       "      <th>industry</th>\n",
       "      <th></th>\n",
       "      <th></th>\n",
       "      <th></th>\n",
       "    </tr>\n",
       "  </thead>\n",
       "  <tbody>\n",
       "    <tr>\n",
       "      <th>FINANCIAL</th>\n",
       "      <td>0.029485</td>\n",
       "      <td>0.079929</td>\n",
       "      <td>-0.020739</td>\n",
       "    </tr>\n",
       "    <tr>\n",
       "      <th>TECH</th>\n",
       "      <td>0.030407</td>\n",
       "      <td>0.080113</td>\n",
       "      <td>-0.019609</td>\n",
       "    </tr>\n",
       "  </tbody>\n",
       "</table>\n",
       "</div>"
      ],
      "text/plain": [
       "           Momentum     Value  ShortInterest\n",
       "industry                                    \n",
       "FINANCIAL  0.029485  0.079929      -0.020739\n",
       "TECH       0.030407  0.080113      -0.019609"
      ]
     },
     "execution_count": 49,
     "metadata": {},
     "output_type": "execute_result"
    }
   ],
   "source": [
    "by_industry = df.groupby(industries)\n",
    "by_industry.mean()"
   ]
  },
  {
   "cell_type": "code",
   "execution_count": 50,
   "metadata": {},
   "outputs": [
    {
     "data": {
      "text/html": [
       "<div>\n",
       "<style scoped>\n",
       "    .dataframe tbody tr th:only-of-type {\n",
       "        vertical-align: middle;\n",
       "    }\n",
       "\n",
       "    .dataframe tbody tr th {\n",
       "        vertical-align: top;\n",
       "    }\n",
       "\n",
       "    .dataframe thead tr th {\n",
       "        text-align: left;\n",
       "    }\n",
       "\n",
       "    .dataframe thead tr:last-of-type th {\n",
       "        text-align: right;\n",
       "    }\n",
       "</style>\n",
       "<table border=\"1\" class=\"dataframe\">\n",
       "  <thead>\n",
       "    <tr>\n",
       "      <th></th>\n",
       "      <th colspan=\"5\" halign=\"left\">Momentum</th>\n",
       "      <th>...</th>\n",
       "      <th colspan=\"5\" halign=\"left\">ShortInterest</th>\n",
       "    </tr>\n",
       "    <tr>\n",
       "      <th></th>\n",
       "      <th>count</th>\n",
       "      <th>mean</th>\n",
       "      <th>std</th>\n",
       "      <th>min</th>\n",
       "      <th>25%</th>\n",
       "      <th>...</th>\n",
       "      <th>min</th>\n",
       "      <th>25%</th>\n",
       "      <th>50%</th>\n",
       "      <th>75%</th>\n",
       "      <th>max</th>\n",
       "    </tr>\n",
       "    <tr>\n",
       "      <th>industry</th>\n",
       "      <th></th>\n",
       "      <th></th>\n",
       "      <th></th>\n",
       "      <th></th>\n",
       "      <th></th>\n",
       "      <th></th>\n",
       "      <th></th>\n",
       "      <th></th>\n",
       "      <th></th>\n",
       "      <th></th>\n",
       "      <th></th>\n",
       "    </tr>\n",
       "  </thead>\n",
       "  <tbody>\n",
       "    <tr>\n",
       "      <th>FINANCIAL</th>\n",
       "      <td>246.0</td>\n",
       "      <td>0.029485</td>\n",
       "      <td>0.004802</td>\n",
       "      <td>0.017210</td>\n",
       "      <td>0.026263</td>\n",
       "      <td>...</td>\n",
       "      <td>-0.036997</td>\n",
       "      <td>-0.024138</td>\n",
       "      <td>-0.020833</td>\n",
       "      <td>-0.017345</td>\n",
       "      <td>-0.006322</td>\n",
       "    </tr>\n",
       "    <tr>\n",
       "      <th>TECH</th>\n",
       "      <td>254.0</td>\n",
       "      <td>0.030407</td>\n",
       "      <td>0.005303</td>\n",
       "      <td>0.016778</td>\n",
       "      <td>0.026456</td>\n",
       "      <td>...</td>\n",
       "      <td>-0.032682</td>\n",
       "      <td>-0.022779</td>\n",
       "      <td>-0.019829</td>\n",
       "      <td>-0.016923</td>\n",
       "      <td>-0.003698</td>\n",
       "    </tr>\n",
       "  </tbody>\n",
       "</table>\n",
       "<p>2 rows × 24 columns</p>\n",
       "</div>"
      ],
      "text/plain": [
       "          Momentum                                            ...     \\\n",
       "             count      mean       std       min       25%    ...      \n",
       "industry                                                      ...      \n",
       "FINANCIAL    246.0  0.029485  0.004802  0.017210  0.026263    ...      \n",
       "TECH         254.0  0.030407  0.005303  0.016778  0.026456    ...      \n",
       "\n",
       "          ShortInterest                                          \n",
       "                    min       25%       50%       75%       max  \n",
       "industry                                                         \n",
       "FINANCIAL     -0.036997 -0.024138 -0.020833 -0.017345 -0.006322  \n",
       "TECH          -0.032682 -0.022779 -0.019829 -0.016923 -0.003698  \n",
       "\n",
       "[2 rows x 24 columns]"
      ]
     },
     "execution_count": 50,
     "metadata": {},
     "output_type": "execute_result"
    }
   ],
   "source": [
    "by_industry.describe()"
   ]
  },
  {
   "cell_type": "code",
   "execution_count": 51,
   "metadata": {},
   "outputs": [],
   "source": [
    "# Within-Industry Standardize\n",
    "def zscore(group):\n",
    "    return (group - group.mean()) / group.std()\n",
    "\n",
    "df_stand = by_industry.apply(zscore)"
   ]
  },
  {
   "cell_type": "code",
   "execution_count": 52,
   "metadata": {},
   "outputs": [
    {
     "data": {
      "text/html": [
       "<div>\n",
       "<style scoped>\n",
       "    .dataframe tbody tr th:only-of-type {\n",
       "        vertical-align: middle;\n",
       "    }\n",
       "\n",
       "    .dataframe tbody tr th {\n",
       "        vertical-align: top;\n",
       "    }\n",
       "\n",
       "    .dataframe thead tr th {\n",
       "        text-align: left;\n",
       "    }\n",
       "\n",
       "    .dataframe thead tr:last-of-type th {\n",
       "        text-align: right;\n",
       "    }\n",
       "</style>\n",
       "<table border=\"1\" class=\"dataframe\">\n",
       "  <thead>\n",
       "    <tr>\n",
       "      <th></th>\n",
       "      <th colspan=\"2\" halign=\"left\">Momentum</th>\n",
       "      <th colspan=\"2\" halign=\"left\">Value</th>\n",
       "      <th colspan=\"2\" halign=\"left\">ShortInterest</th>\n",
       "    </tr>\n",
       "    <tr>\n",
       "      <th></th>\n",
       "      <th>mean</th>\n",
       "      <th>std</th>\n",
       "      <th>mean</th>\n",
       "      <th>std</th>\n",
       "      <th>mean</th>\n",
       "      <th>std</th>\n",
       "    </tr>\n",
       "    <tr>\n",
       "      <th>industry</th>\n",
       "      <th></th>\n",
       "      <th></th>\n",
       "      <th></th>\n",
       "      <th></th>\n",
       "      <th></th>\n",
       "      <th></th>\n",
       "    </tr>\n",
       "  </thead>\n",
       "  <tbody>\n",
       "    <tr>\n",
       "      <th>FINANCIAL</th>\n",
       "      <td>1.114736e-15</td>\n",
       "      <td>1.0</td>\n",
       "      <td>8.001278e-15</td>\n",
       "      <td>1.0</td>\n",
       "      <td>3.081772e-15</td>\n",
       "      <td>1.0</td>\n",
       "    </tr>\n",
       "    <tr>\n",
       "      <th>TECH</th>\n",
       "      <td>-2.779929e-16</td>\n",
       "      <td>1.0</td>\n",
       "      <td>-7.139521e-15</td>\n",
       "      <td>1.0</td>\n",
       "      <td>-1.910982e-15</td>\n",
       "      <td>1.0</td>\n",
       "    </tr>\n",
       "  </tbody>\n",
       "</table>\n",
       "</div>"
      ],
      "text/plain": [
       "               Momentum              Value      ShortInterest     \n",
       "                   mean  std          mean  std          mean  std\n",
       "industry                                                          \n",
       "FINANCIAL  1.114736e-15  1.0  8.001278e-15  1.0  3.081772e-15  1.0\n",
       "TECH      -2.779929e-16  1.0 -7.139521e-15  1.0 -1.910982e-15  1.0"
      ]
     },
     "execution_count": 52,
     "metadata": {},
     "output_type": "execute_result"
    }
   ],
   "source": [
    "df_stand.groupby(industries).agg(['mean', 'std'])"
   ]
  },
  {
   "cell_type": "code",
   "execution_count": 53,
   "metadata": {},
   "outputs": [
    {
     "data": {
      "text/html": [
       "<div>\n",
       "<style scoped>\n",
       "    .dataframe tbody tr th:only-of-type {\n",
       "        vertical-align: middle;\n",
       "    }\n",
       "\n",
       "    .dataframe tbody tr th {\n",
       "        vertical-align: top;\n",
       "    }\n",
       "\n",
       "    .dataframe thead tr th {\n",
       "        text-align: left;\n",
       "    }\n",
       "\n",
       "    .dataframe thead tr:last-of-type th {\n",
       "        text-align: right;\n",
       "    }\n",
       "</style>\n",
       "<table border=\"1\" class=\"dataframe\">\n",
       "  <thead>\n",
       "    <tr>\n",
       "      <th></th>\n",
       "      <th colspan=\"2\" halign=\"left\">Momentum</th>\n",
       "      <th colspan=\"2\" halign=\"left\">Value</th>\n",
       "      <th colspan=\"2\" halign=\"left\">ShortInterest</th>\n",
       "    </tr>\n",
       "    <tr>\n",
       "      <th></th>\n",
       "      <th>min</th>\n",
       "      <th>max</th>\n",
       "      <th>min</th>\n",
       "      <th>max</th>\n",
       "      <th>min</th>\n",
       "      <th>max</th>\n",
       "    </tr>\n",
       "    <tr>\n",
       "      <th>industry</th>\n",
       "      <th></th>\n",
       "      <th></th>\n",
       "      <th></th>\n",
       "      <th></th>\n",
       "      <th></th>\n",
       "      <th></th>\n",
       "    </tr>\n",
       "  </thead>\n",
       "  <tbody>\n",
       "    <tr>\n",
       "      <th>FINANCIAL</th>\n",
       "      <td>1.0</td>\n",
       "      <td>246.0</td>\n",
       "      <td>1.0</td>\n",
       "      <td>246.0</td>\n",
       "      <td>1.0</td>\n",
       "      <td>246.0</td>\n",
       "    </tr>\n",
       "    <tr>\n",
       "      <th>TECH</th>\n",
       "      <td>1.0</td>\n",
       "      <td>254.0</td>\n",
       "      <td>1.0</td>\n",
       "      <td>254.0</td>\n",
       "      <td>1.0</td>\n",
       "      <td>254.0</td>\n",
       "    </tr>\n",
       "  </tbody>\n",
       "</table>\n",
       "</div>"
      ],
      "text/plain": [
       "          Momentum        Value        ShortInterest       \n",
       "               min    max   min    max           min    max\n",
       "industry                                                   \n",
       "FINANCIAL      1.0  246.0   1.0  246.0           1.0  246.0\n",
       "TECH           1.0  254.0   1.0  254.0           1.0  254.0"
      ]
     },
     "execution_count": 53,
     "metadata": {},
     "output_type": "execute_result"
    }
   ],
   "source": [
    "# Within-industry rank descending\n",
    "ind_rank = by_industry.rank(ascending=False)\n",
    "ind_rank.groupby(industries).agg(['min', 'max'])"
   ]
  },
  {
   "cell_type": "code",
   "execution_count": 54,
   "metadata": {},
   "outputs": [
    {
     "data": {
      "text/html": [
       "<div>\n",
       "<style scoped>\n",
       "    .dataframe tbody tr th:only-of-type {\n",
       "        vertical-align: middle;\n",
       "    }\n",
       "\n",
       "    .dataframe tbody tr th {\n",
       "        vertical-align: top;\n",
       "    }\n",
       "\n",
       "    .dataframe thead th {\n",
       "        text-align: right;\n",
       "    }\n",
       "</style>\n",
       "<table border=\"1\" class=\"dataframe\">\n",
       "  <thead>\n",
       "    <tr style=\"text-align: right;\">\n",
       "      <th></th>\n",
       "      <th>Momentum</th>\n",
       "      <th>Value</th>\n",
       "      <th>ShortInterest</th>\n",
       "    </tr>\n",
       "  </thead>\n",
       "  <tbody>\n",
       "    <tr>\n",
       "      <th>MYNBI</th>\n",
       "      <td>-0.091346</td>\n",
       "      <td>-1.004802</td>\n",
       "      <td>-0.976696</td>\n",
       "    </tr>\n",
       "    <tr>\n",
       "      <th>QPMZJ</th>\n",
       "      <td>0.794005</td>\n",
       "      <td>-0.358356</td>\n",
       "      <td>1.299919</td>\n",
       "    </tr>\n",
       "    <tr>\n",
       "      <th>PLSGQ</th>\n",
       "      <td>-0.541047</td>\n",
       "      <td>-1.679355</td>\n",
       "      <td>-0.836164</td>\n",
       "    </tr>\n",
       "    <tr>\n",
       "      <th>EJEYD</th>\n",
       "      <td>-0.583207</td>\n",
       "      <td>0.990749</td>\n",
       "      <td>-1.623142</td>\n",
       "    </tr>\n",
       "    <tr>\n",
       "      <th>TZIRW</th>\n",
       "      <td>1.572120</td>\n",
       "      <td>0.374314</td>\n",
       "      <td>-0.265423</td>\n",
       "    </tr>\n",
       "    <tr>\n",
       "      <th>ZTEJD</th>\n",
       "      <td>1.395171</td>\n",
       "      <td>-1.436006</td>\n",
       "      <td>0.360703</td>\n",
       "    </tr>\n",
       "    <tr>\n",
       "      <th>XCVKP</th>\n",
       "      <td>-0.074863</td>\n",
       "      <td>-0.660154</td>\n",
       "      <td>0.632931</td>\n",
       "    </tr>\n",
       "    <tr>\n",
       "      <th>RDLNK</th>\n",
       "      <td>0.238200</td>\n",
       "      <td>0.102086</td>\n",
       "      <td>-0.319869</td>\n",
       "    </tr>\n",
       "    <tr>\n",
       "      <th>TUGRP</th>\n",
       "      <td>1.075068</td>\n",
       "      <td>1.580983</td>\n",
       "      <td>1.665302</td>\n",
       "    </tr>\n",
       "    <tr>\n",
       "      <th>OQIBZ</th>\n",
       "      <td>1.412345</td>\n",
       "      <td>-1.313972</td>\n",
       "      <td>0.358356</td>\n",
       "    </tr>\n",
       "    <tr>\n",
       "      <th>RACXM</th>\n",
       "      <td>1.229653</td>\n",
       "      <td>-0.822111</td>\n",
       "      <td>1.257760</td>\n",
       "    </tr>\n",
       "    <tr>\n",
       "      <th>WZVUA</th>\n",
       "      <td>-1.426398</td>\n",
       "      <td>-0.934536</td>\n",
       "      <td>-0.625366</td>\n",
       "    </tr>\n",
       "    <tr>\n",
       "      <th>TPKHX</th>\n",
       "      <td>0.224589</td>\n",
       "      <td>1.313503</td>\n",
       "      <td>-0.156531</td>\n",
       "    </tr>\n",
       "    <tr>\n",
       "      <th>KWCGS</th>\n",
       "      <td>0.142920</td>\n",
       "      <td>0.619320</td>\n",
       "      <td>0.741823</td>\n",
       "    </tr>\n",
       "    <tr>\n",
       "      <th>HHZEZ</th>\n",
       "      <td>1.538823</td>\n",
       "      <td>-1.566930</td>\n",
       "      <td>0.597260</td>\n",
       "    </tr>\n",
       "    <tr>\n",
       "      <th>ROCCK</th>\n",
       "      <td>1.117228</td>\n",
       "      <td>0.428622</td>\n",
       "      <td>-1.510717</td>\n",
       "    </tr>\n",
       "    <tr>\n",
       "      <th>QPDJR</th>\n",
       "      <td>-1.640177</td>\n",
       "      <td>0.755434</td>\n",
       "      <td>0.700989</td>\n",
       "    </tr>\n",
       "    <tr>\n",
       "      <th>JWDRK</th>\n",
       "      <td>-0.537651</td>\n",
       "      <td>0.714600</td>\n",
       "      <td>1.572120</td>\n",
       "    </tr>\n",
       "    <tr>\n",
       "      <th>RGZTR</th>\n",
       "      <td>1.637195</td>\n",
       "      <td>0.442675</td>\n",
       "      <td>-0.555101</td>\n",
       "    </tr>\n",
       "    <tr>\n",
       "      <th>SJOCT</th>\n",
       "      <td>-0.619320</td>\n",
       "      <td>0.088474</td>\n",
       "      <td>-0.469594</td>\n",
       "    </tr>\n",
       "    <tr>\n",
       "      <th>ZMKSH</th>\n",
       "      <td>-0.555101</td>\n",
       "      <td>-1.468557</td>\n",
       "      <td>0.259984</td>\n",
       "    </tr>\n",
       "    <tr>\n",
       "      <th>JFGFB</th>\n",
       "      <td>0.524040</td>\n",
       "      <td>-1.721846</td>\n",
       "      <td>-0.496817</td>\n",
       "    </tr>\n",
       "    <tr>\n",
       "      <th>TVIPC</th>\n",
       "      <td>1.708234</td>\n",
       "      <td>0.796269</td>\n",
       "      <td>0.034029</td>\n",
       "    </tr>\n",
       "    <tr>\n",
       "      <th>CVYEE</th>\n",
       "      <td>-1.259057</td>\n",
       "      <td>0.115697</td>\n",
       "      <td>0.673766</td>\n",
       "    </tr>\n",
       "    <tr>\n",
       "      <th>BCWRV</th>\n",
       "      <td>-0.639420</td>\n",
       "      <td>1.426398</td>\n",
       "      <td>0.920483</td>\n",
       "    </tr>\n",
       "    <tr>\n",
       "      <th>MWQIQ</th>\n",
       "      <td>-0.020417</td>\n",
       "      <td>-1.626566</td>\n",
       "      <td>-1.612954</td>\n",
       "    </tr>\n",
       "    <tr>\n",
       "      <th>ZHGVS</th>\n",
       "      <td>0.265423</td>\n",
       "      <td>1.272668</td>\n",
       "      <td>1.177388</td>\n",
       "    </tr>\n",
       "    <tr>\n",
       "      <th>NSIOP</th>\n",
       "      <td>0.836164</td>\n",
       "      <td>1.679355</td>\n",
       "      <td>1.552876</td>\n",
       "    </tr>\n",
       "    <tr>\n",
       "      <th>VUWZL</th>\n",
       "      <td>-0.142920</td>\n",
       "      <td>-0.306257</td>\n",
       "      <td>-0.564874</td>\n",
       "    </tr>\n",
       "    <tr>\n",
       "      <th>CKTDP</th>\n",
       "      <td>1.496664</td>\n",
       "      <td>-1.257760</td>\n",
       "      <td>0.302143</td>\n",
       "    </tr>\n",
       "    <tr>\n",
       "      <th>SUKGH</th>\n",
       "      <td>-0.864326</td>\n",
       "      <td>0.864326</td>\n",
       "      <td>0.020417</td>\n",
       "    </tr>\n",
       "    <tr>\n",
       "      <th>AXIDW</th>\n",
       "      <td>-0.986828</td>\n",
       "      <td>-0.877937</td>\n",
       "      <td>-0.102086</td>\n",
       "    </tr>\n",
       "    <tr>\n",
       "      <th>HLZFK</th>\n",
       "      <td>-1.667400</td>\n",
       "      <td>-0.850714</td>\n",
       "      <td>-1.585731</td>\n",
       "    </tr>\n",
       "    <tr>\n",
       "      <th>NBDZE</th>\n",
       "      <td>-1.623142</td>\n",
       "      <td>0.836164</td>\n",
       "      <td>-0.259984</td>\n",
       "    </tr>\n",
       "    <tr>\n",
       "      <th>WHBSU</th>\n",
       "      <td>-0.962643</td>\n",
       "      <td>0.583207</td>\n",
       "      <td>1.426398</td>\n",
       "    </tr>\n",
       "    <tr>\n",
       "      <th>RTVCA</th>\n",
       "      <td>0.632931</td>\n",
       "      <td>0.224589</td>\n",
       "      <td>1.653788</td>\n",
       "    </tr>\n",
       "    <tr>\n",
       "      <th>DUGTS</th>\n",
       "      <td>-1.398291</td>\n",
       "      <td>1.145334</td>\n",
       "      <td>-1.243706</td>\n",
       "    </tr>\n",
       "    <tr>\n",
       "      <th>DMCLD</th>\n",
       "      <td>0.456728</td>\n",
       "      <td>-0.007027</td>\n",
       "      <td>0.639420</td>\n",
       "    </tr>\n",
       "    <tr>\n",
       "      <th>BTAGF</th>\n",
       "      <td>-1.201547</td>\n",
       "      <td>-0.920483</td>\n",
       "      <td>-1.089121</td>\n",
       "    </tr>\n",
       "    <tr>\n",
       "      <th>WDPGX</th>\n",
       "      <td>0.597260</td>\n",
       "      <td>-0.049186</td>\n",
       "      <td>-0.021080</td>\n",
       "    </tr>\n",
       "    <tr>\n",
       "      <th>ZBVAR</th>\n",
       "      <td>-1.707461</td>\n",
       "      <td>-1.426398</td>\n",
       "      <td>-1.004802</td>\n",
       "    </tr>\n",
       "    <tr>\n",
       "      <th>NTDIC</th>\n",
       "      <td>-0.077292</td>\n",
       "      <td>-0.512941</td>\n",
       "      <td>-1.454504</td>\n",
       "    </tr>\n",
       "    <tr>\n",
       "      <th>HCUJL</th>\n",
       "      <td>-1.517674</td>\n",
       "      <td>-0.455983</td>\n",
       "      <td>-1.299891</td>\n",
       "    </tr>\n",
       "    <tr>\n",
       "      <th>NFBQO</th>\n",
       "      <td>-1.103175</td>\n",
       "      <td>-0.484835</td>\n",
       "      <td>-1.145334</td>\n",
       "    </tr>\n",
       "    <tr>\n",
       "      <th>BTDWM</th>\n",
       "      <td>-1.422394</td>\n",
       "      <td>0.142920</td>\n",
       "      <td>0.483206</td>\n",
       "    </tr>\n",
       "    <tr>\n",
       "      <th>GILXP</th>\n",
       "      <td>0.526994</td>\n",
       "      <td>0.302143</td>\n",
       "      <td>-0.063239</td>\n",
       "    </tr>\n",
       "    <tr>\n",
       "      <th>SFWVG</th>\n",
       "      <td>0.292646</td>\n",
       "      <td>0.551263</td>\n",
       "      <td>-1.463228</td>\n",
       "    </tr>\n",
       "    <tr>\n",
       "      <th>YBZVF</th>\n",
       "      <td>-0.892377</td>\n",
       "      <td>0.245931</td>\n",
       "      <td>-1.426398</td>\n",
       "    </tr>\n",
       "    <tr>\n",
       "      <th>FKQID</th>\n",
       "      <td>0.583207</td>\n",
       "      <td>0.470782</td>\n",
       "      <td>-1.187494</td>\n",
       "    </tr>\n",
       "    <tr>\n",
       "      <th>TOVFA</th>\n",
       "      <td>1.367948</td>\n",
       "      <td>-1.150166</td>\n",
       "      <td>0.183754</td>\n",
       "    </tr>\n",
       "    <tr>\n",
       "      <th>...</th>\n",
       "      <td>...</td>\n",
       "      <td>...</td>\n",
       "      <td>...</td>\n",
       "    </tr>\n",
       "    <tr>\n",
       "      <th>UWQDW</th>\n",
       "      <td>-1.068497</td>\n",
       "      <td>-1.163777</td>\n",
       "      <td>-0.292646</td>\n",
       "    </tr>\n",
       "    <tr>\n",
       "      <th>YUWGT</th>\n",
       "      <td>-0.105399</td>\n",
       "      <td>1.524770</td>\n",
       "      <td>1.018856</td>\n",
       "    </tr>\n",
       "    <tr>\n",
       "      <th>UTQDI</th>\n",
       "      <td>0.347091</td>\n",
       "      <td>1.014051</td>\n",
       "      <td>1.449617</td>\n",
       "    </tr>\n",
       "    <tr>\n",
       "      <th>WXTFM</th>\n",
       "      <td>-0.667526</td>\n",
       "      <td>1.201547</td>\n",
       "      <td>0.498888</td>\n",
       "    </tr>\n",
       "    <tr>\n",
       "      <th>CZBAD</th>\n",
       "      <td>-0.288090</td>\n",
       "      <td>-0.077292</td>\n",
       "      <td>-0.878324</td>\n",
       "    </tr>\n",
       "    <tr>\n",
       "      <th>LXPKD</th>\n",
       "      <td>0.864271</td>\n",
       "      <td>1.004802</td>\n",
       "      <td>-0.161612</td>\n",
       "    </tr>\n",
       "    <tr>\n",
       "      <th>VOLSW</th>\n",
       "      <td>-1.299891</td>\n",
       "      <td>-1.558508</td>\n",
       "      <td>1.504063</td>\n",
       "    </tr>\n",
       "    <tr>\n",
       "      <th>IVPZY</th>\n",
       "      <td>1.381560</td>\n",
       "      <td>-1.408783</td>\n",
       "      <td>-1.286280</td>\n",
       "    </tr>\n",
       "    <tr>\n",
       "      <th>HFRRC</th>\n",
       "      <td>-1.580983</td>\n",
       "      <td>-0.653473</td>\n",
       "      <td>1.538823</td>\n",
       "    </tr>\n",
       "    <tr>\n",
       "      <th>YQFAU</th>\n",
       "      <td>-1.082108</td>\n",
       "      <td>-1.272668</td>\n",
       "      <td>0.210977</td>\n",
       "    </tr>\n",
       "    <tr>\n",
       "      <th>FQNTV</th>\n",
       "      <td>0.782657</td>\n",
       "      <td>-0.646543</td>\n",
       "      <td>0.496817</td>\n",
       "    </tr>\n",
       "    <tr>\n",
       "      <th>GOWVM</th>\n",
       "      <td>-1.510717</td>\n",
       "      <td>-0.948590</td>\n",
       "      <td>-0.667526</td>\n",
       "    </tr>\n",
       "    <tr>\n",
       "      <th>IASEM</th>\n",
       "      <td>0.483206</td>\n",
       "      <td>-0.782657</td>\n",
       "      <td>1.640177</td>\n",
       "    </tr>\n",
       "    <tr>\n",
       "      <th>FOSBM</th>\n",
       "      <td>-0.333480</td>\n",
       "      <td>0.442371</td>\n",
       "      <td>-0.115697</td>\n",
       "    </tr>\n",
       "    <tr>\n",
       "      <th>ZCUSM</th>\n",
       "      <td>-0.808058</td>\n",
       "      <td>-1.046962</td>\n",
       "      <td>-0.007027</td>\n",
       "    </tr>\n",
       "    <tr>\n",
       "      <th>KHQOB</th>\n",
       "      <td>0.414569</td>\n",
       "      <td>-0.681579</td>\n",
       "      <td>0.962643</td>\n",
       "    </tr>\n",
       "    <tr>\n",
       "      <th>PTDIQ</th>\n",
       "      <td>-0.496817</td>\n",
       "      <td>-0.741823</td>\n",
       "      <td>-1.544897</td>\n",
       "    </tr>\n",
       "    <tr>\n",
       "      <th>PRUMP</th>\n",
       "      <td>0.401537</td>\n",
       "      <td>1.082108</td>\n",
       "      <td>-1.504063</td>\n",
       "    </tr>\n",
       "    <tr>\n",
       "      <th>IFHRL</th>\n",
       "      <td>0.700989</td>\n",
       "      <td>-0.115697</td>\n",
       "      <td>1.163777</td>\n",
       "    </tr>\n",
       "    <tr>\n",
       "      <th>FJTEO</th>\n",
       "      <td>0.660154</td>\n",
       "      <td>-0.374314</td>\n",
       "      <td>1.286280</td>\n",
       "    </tr>\n",
       "    <tr>\n",
       "      <th>CCPMS</th>\n",
       "      <td>0.358356</td>\n",
       "      <td>-0.105399</td>\n",
       "      <td>0.245931</td>\n",
       "    </tr>\n",
       "    <tr>\n",
       "      <th>NRCIP</th>\n",
       "      <td>-0.469594</td>\n",
       "      <td>-1.490451</td>\n",
       "      <td>-1.653788</td>\n",
       "    </tr>\n",
       "    <tr>\n",
       "      <th>HDJEL</th>\n",
       "      <td>-0.836164</td>\n",
       "      <td>-0.175665</td>\n",
       "      <td>-0.119452</td>\n",
       "    </tr>\n",
       "    <tr>\n",
       "      <th>ZDEVB</th>\n",
       "      <td>0.484835</td>\n",
       "      <td>1.103175</td>\n",
       "      <td>-1.538823</td>\n",
       "    </tr>\n",
       "    <tr>\n",
       "      <th>VESRG</th>\n",
       "      <td>-0.687377</td>\n",
       "      <td>0.279034</td>\n",
       "      <td>1.367948</td>\n",
       "    </tr>\n",
       "    <tr>\n",
       "      <th>ABMRW</th>\n",
       "      <td>0.319869</td>\n",
       "      <td>-1.122943</td>\n",
       "      <td>-0.646543</td>\n",
       "    </tr>\n",
       "    <tr>\n",
       "      <th>YTPWW</th>\n",
       "      <td>-1.061015</td>\n",
       "      <td>-1.707461</td>\n",
       "      <td>1.117228</td>\n",
       "    </tr>\n",
       "    <tr>\n",
       "      <th>DPRLY</th>\n",
       "      <td>-0.251811</td>\n",
       "      <td>-0.891549</td>\n",
       "      <td>-1.436006</td>\n",
       "    </tr>\n",
       "    <tr>\n",
       "      <th>KDVAH</th>\n",
       "      <td>-1.637195</td>\n",
       "      <td>-0.344303</td>\n",
       "      <td>1.229653</td>\n",
       "    </tr>\n",
       "    <tr>\n",
       "      <th>HPJIH</th>\n",
       "      <td>1.408783</td>\n",
       "      <td>0.592097</td>\n",
       "      <td>0.809880</td>\n",
       "    </tr>\n",
       "    <tr>\n",
       "      <th>APLQK</th>\n",
       "      <td>1.463228</td>\n",
       "      <td>0.469594</td>\n",
       "      <td>0.279034</td>\n",
       "    </tr>\n",
       "    <tr>\n",
       "      <th>CCJSN</th>\n",
       "      <td>0.578486</td>\n",
       "      <td>-1.259057</td>\n",
       "      <td>1.544897</td>\n",
       "    </tr>\n",
       "    <tr>\n",
       "      <th>HXLMY</th>\n",
       "      <td>-0.415149</td>\n",
       "      <td>0.319869</td>\n",
       "      <td>1.476840</td>\n",
       "    </tr>\n",
       "    <tr>\n",
       "      <th>EHJGX</th>\n",
       "      <td>1.014051</td>\n",
       "      <td>1.681011</td>\n",
       "      <td>-1.558508</td>\n",
       "    </tr>\n",
       "    <tr>\n",
       "      <th>YPVZL</th>\n",
       "      <td>-0.088474</td>\n",
       "      <td>-0.837103</td>\n",
       "      <td>-0.632931</td>\n",
       "    </tr>\n",
       "    <tr>\n",
       "      <th>JMTEY</th>\n",
       "      <td>-1.626566</td>\n",
       "      <td>1.354337</td>\n",
       "      <td>-0.401537</td>\n",
       "    </tr>\n",
       "    <tr>\n",
       "      <th>DMLQP</th>\n",
       "      <td>-1.089121</td>\n",
       "      <td>-1.299919</td>\n",
       "      <td>-0.892377</td>\n",
       "    </tr>\n",
       "    <tr>\n",
       "      <th>HUWLU</th>\n",
       "      <td>0.344303</td>\n",
       "      <td>1.046962</td>\n",
       "      <td>1.328025</td>\n",
       "    </tr>\n",
       "    <tr>\n",
       "      <th>LNILM</th>\n",
       "      <td>-0.006806</td>\n",
       "      <td>-1.327114</td>\n",
       "      <td>-1.572120</td>\n",
       "    </tr>\n",
       "    <tr>\n",
       "      <th>YYWJD</th>\n",
       "      <td>-0.646543</td>\n",
       "      <td>-0.074863</td>\n",
       "      <td>-0.428760</td>\n",
       "    </tr>\n",
       "    <tr>\n",
       "      <th>PJDOE</th>\n",
       "      <td>-0.737792</td>\n",
       "      <td>-0.962643</td>\n",
       "      <td>-0.948590</td>\n",
       "    </tr>\n",
       "    <tr>\n",
       "      <th>LHXFK</th>\n",
       "      <td>1.046962</td>\n",
       "      <td>1.566930</td>\n",
       "      <td>-1.440451</td>\n",
       "    </tr>\n",
       "    <tr>\n",
       "      <th>PHDVM</th>\n",
       "      <td>-0.709686</td>\n",
       "      <td>-1.173440</td>\n",
       "      <td>1.454504</td>\n",
       "    </tr>\n",
       "    <tr>\n",
       "      <th>MOQOS</th>\n",
       "      <td>1.082108</td>\n",
       "      <td>1.708234</td>\n",
       "      <td>1.109331</td>\n",
       "    </tr>\n",
       "    <tr>\n",
       "      <th>THVMQ</th>\n",
       "      <td>0.891549</td>\n",
       "      <td>-0.796269</td>\n",
       "      <td>-1.721846</td>\n",
       "    </tr>\n",
       "    <tr>\n",
       "      <th>JPHKQ</th>\n",
       "      <td>-0.238200</td>\n",
       "      <td>0.074863</td>\n",
       "      <td>0.401537</td>\n",
       "    </tr>\n",
       "    <tr>\n",
       "      <th>VACPK</th>\n",
       "      <td>1.681011</td>\n",
       "      <td>-0.238200</td>\n",
       "      <td>-1.395171</td>\n",
       "    </tr>\n",
       "    <tr>\n",
       "      <th>MHNBS</th>\n",
       "      <td>0.673766</td>\n",
       "      <td>-1.313503</td>\n",
       "      <td>1.490451</td>\n",
       "    </tr>\n",
       "    <tr>\n",
       "      <th>YBNCI</th>\n",
       "      <td>1.623142</td>\n",
       "      <td>0.976696</td>\n",
       "      <td>0.541047</td>\n",
       "    </tr>\n",
       "    <tr>\n",
       "      <th>GXKFD</th>\n",
       "      <td>1.286280</td>\n",
       "      <td>1.381560</td>\n",
       "      <td>1.463228</td>\n",
       "    </tr>\n",
       "  </tbody>\n",
       "</table>\n",
       "<p>500 rows × 3 columns</p>\n",
       "</div>"
      ],
      "text/plain": [
       "       Momentum     Value  ShortInterest\n",
       "MYNBI -0.091346 -1.004802      -0.976696\n",
       "QPMZJ  0.794005 -0.358356       1.299919\n",
       "PLSGQ -0.541047 -1.679355      -0.836164\n",
       "EJEYD -0.583207  0.990749      -1.623142\n",
       "TZIRW  1.572120  0.374314      -0.265423\n",
       "ZTEJD  1.395171 -1.436006       0.360703\n",
       "XCVKP -0.074863 -0.660154       0.632931\n",
       "RDLNK  0.238200  0.102086      -0.319869\n",
       "TUGRP  1.075068  1.580983       1.665302\n",
       "OQIBZ  1.412345 -1.313972       0.358356\n",
       "RACXM  1.229653 -0.822111       1.257760\n",
       "WZVUA -1.426398 -0.934536      -0.625366\n",
       "TPKHX  0.224589  1.313503      -0.156531\n",
       "KWCGS  0.142920  0.619320       0.741823\n",
       "HHZEZ  1.538823 -1.566930       0.597260\n",
       "ROCCK  1.117228  0.428622      -1.510717\n",
       "QPDJR -1.640177  0.755434       0.700989\n",
       "JWDRK -0.537651  0.714600       1.572120\n",
       "RGZTR  1.637195  0.442675      -0.555101\n",
       "SJOCT -0.619320  0.088474      -0.469594\n",
       "ZMKSH -0.555101 -1.468557       0.259984\n",
       "JFGFB  0.524040 -1.721846      -0.496817\n",
       "TVIPC  1.708234  0.796269       0.034029\n",
       "CVYEE -1.259057  0.115697       0.673766\n",
       "BCWRV -0.639420  1.426398       0.920483\n",
       "MWQIQ -0.020417 -1.626566      -1.612954\n",
       "ZHGVS  0.265423  1.272668       1.177388\n",
       "NSIOP  0.836164  1.679355       1.552876\n",
       "VUWZL -0.142920 -0.306257      -0.564874\n",
       "CKTDP  1.496664 -1.257760       0.302143\n",
       "SUKGH -0.864326  0.864326       0.020417\n",
       "AXIDW -0.986828 -0.877937      -0.102086\n",
       "HLZFK -1.667400 -0.850714      -1.585731\n",
       "NBDZE -1.623142  0.836164      -0.259984\n",
       "WHBSU -0.962643  0.583207       1.426398\n",
       "RTVCA  0.632931  0.224589       1.653788\n",
       "DUGTS -1.398291  1.145334      -1.243706\n",
       "DMCLD  0.456728 -0.007027       0.639420\n",
       "BTAGF -1.201547 -0.920483      -1.089121\n",
       "WDPGX  0.597260 -0.049186      -0.021080\n",
       "ZBVAR -1.707461 -1.426398      -1.004802\n",
       "NTDIC -0.077292 -0.512941      -1.454504\n",
       "HCUJL -1.517674 -0.455983      -1.299891\n",
       "NFBQO -1.103175 -0.484835      -1.145334\n",
       "BTDWM -1.422394  0.142920       0.483206\n",
       "GILXP  0.526994  0.302143      -0.063239\n",
       "SFWVG  0.292646  0.551263      -1.463228\n",
       "YBZVF -0.892377  0.245931      -1.426398\n",
       "FKQID  0.583207  0.470782      -1.187494\n",
       "TOVFA  1.367948 -1.150166       0.183754\n",
       "...         ...       ...            ...\n",
       "UWQDW -1.068497 -1.163777      -0.292646\n",
       "YUWGT -0.105399  1.524770       1.018856\n",
       "UTQDI  0.347091  1.014051       1.449617\n",
       "WXTFM -0.667526  1.201547       0.498888\n",
       "CZBAD -0.288090 -0.077292      -0.878324\n",
       "LXPKD  0.864271  1.004802      -0.161612\n",
       "VOLSW -1.299891 -1.558508       1.504063\n",
       "IVPZY  1.381560 -1.408783      -1.286280\n",
       "HFRRC -1.580983 -0.653473       1.538823\n",
       "YQFAU -1.082108 -1.272668       0.210977\n",
       "FQNTV  0.782657 -0.646543       0.496817\n",
       "GOWVM -1.510717 -0.948590      -0.667526\n",
       "IASEM  0.483206 -0.782657       1.640177\n",
       "FOSBM -0.333480  0.442371      -0.115697\n",
       "ZCUSM -0.808058 -1.046962      -0.007027\n",
       "KHQOB  0.414569 -0.681579       0.962643\n",
       "PTDIQ -0.496817 -0.741823      -1.544897\n",
       "PRUMP  0.401537  1.082108      -1.504063\n",
       "IFHRL  0.700989 -0.115697       1.163777\n",
       "FJTEO  0.660154 -0.374314       1.286280\n",
       "CCPMS  0.358356 -0.105399       0.245931\n",
       "NRCIP -0.469594 -1.490451      -1.653788\n",
       "HDJEL -0.836164 -0.175665      -0.119452\n",
       "ZDEVB  0.484835  1.103175      -1.538823\n",
       "VESRG -0.687377  0.279034       1.367948\n",
       "ABMRW  0.319869 -1.122943      -0.646543\n",
       "YTPWW -1.061015 -1.707461       1.117228\n",
       "DPRLY -0.251811 -0.891549      -1.436006\n",
       "KDVAH -1.637195 -0.344303       1.229653\n",
       "HPJIH  1.408783  0.592097       0.809880\n",
       "APLQK  1.463228  0.469594       0.279034\n",
       "CCJSN  0.578486 -1.259057       1.544897\n",
       "HXLMY -0.415149  0.319869       1.476840\n",
       "EHJGX  1.014051  1.681011      -1.558508\n",
       "YPVZL -0.088474 -0.837103      -0.632931\n",
       "JMTEY -1.626566  1.354337      -0.401537\n",
       "DMLQP -1.089121 -1.299919      -0.892377\n",
       "HUWLU  0.344303  1.046962       1.328025\n",
       "LNILM -0.006806 -1.327114      -1.572120\n",
       "YYWJD -0.646543 -0.074863      -0.428760\n",
       "PJDOE -0.737792 -0.962643      -0.948590\n",
       "LHXFK  1.046962  1.566930      -1.440451\n",
       "PHDVM -0.709686 -1.173440       1.454504\n",
       "MOQOS  1.082108  1.708234       1.109331\n",
       "THVMQ  0.891549 -0.796269      -1.721846\n",
       "JPHKQ -0.238200  0.074863       0.401537\n",
       "VACPK  1.681011 -0.238200      -1.395171\n",
       "MHNBS  0.673766 -1.313503       1.490451\n",
       "YBNCI  1.623142  0.976696       0.541047\n",
       "GXKFD  1.286280  1.381560       1.463228\n",
       "\n",
       "[500 rows x 3 columns]"
      ]
     },
     "execution_count": 54,
     "metadata": {},
     "output_type": "execute_result"
    }
   ],
   "source": [
    "# Industry rank and standardize\n",
    "by_industry.apply(lambda x: zscore(x.rank()))"
   ]
  },
  {
   "cell_type": "markdown",
   "metadata": {},
   "source": [
    "### Group factor exposures"
   ]
  },
  {
   "cell_type": "code",
   "execution_count": 55,
   "metadata": {},
   "outputs": [],
   "source": [
    "from numpy.random import rand\n",
    "fac1, fac2, fac3 = np.random.rand(3, 1000)\n",
    "\n",
    "ticker_subset = tickers.take(np.random.permutation(N)[:1000])\n",
    "\n",
    "# Weighted sum of factors plus noise\n",
    "port = Series(0.7 * fac1 - 1.2 * fac2 + 0.3 * fac3 + rand(1000),\n",
    "              index=ticker_subset)\n",
    "factors = DataFrame({'f1': fac1, 'f2': fac2, 'f3': fac3},\n",
    "                    index=ticker_subset)"
   ]
  },
  {
   "cell_type": "code",
   "execution_count": 56,
   "metadata": {},
   "outputs": [
    {
     "data": {
      "text/plain": [
       "f1    0.402377\n",
       "f2   -0.680980\n",
       "f3    0.168083\n",
       "dtype: float64"
      ]
     },
     "execution_count": 56,
     "metadata": {},
     "output_type": "execute_result"
    }
   ],
   "source": [
    "factors.corrwith(port)"
   ]
  },
  {
   "cell_type": "code",
   "execution_count": 57,
   "metadata": {},
   "outputs": [
    {
     "data": {
      "text/html": [
       "<div>\n",
       "<style scoped>\n",
       "    .dataframe tbody tr th:only-of-type {\n",
       "        vertical-align: middle;\n",
       "    }\n",
       "\n",
       "    .dataframe tbody tr th {\n",
       "        vertical-align: top;\n",
       "    }\n",
       "\n",
       "    .dataframe thead th {\n",
       "        text-align: right;\n",
       "    }\n",
       "</style>\n",
       "<table border=\"1\" class=\"dataframe\">\n",
       "  <thead>\n",
       "    <tr style=\"text-align: right;\">\n",
       "      <th></th>\n",
       "      <th>f1</th>\n",
       "      <th>f2</th>\n",
       "      <th>f3</th>\n",
       "    </tr>\n",
       "  </thead>\n",
       "  <tbody>\n",
       "    <tr>\n",
       "      <th>FYNCS</th>\n",
       "      <td>1.523291</td>\n",
       "      <td>-1.301151</td>\n",
       "      <td>0.514681</td>\n",
       "    </tr>\n",
       "    <tr>\n",
       "      <th>MTSHZ</th>\n",
       "      <td>1.703277</td>\n",
       "      <td>-1.139683</td>\n",
       "      <td>0.547610</td>\n",
       "    </tr>\n",
       "    <tr>\n",
       "      <th>OMLRE</th>\n",
       "      <td>1.590718</td>\n",
       "      <td>-1.075082</td>\n",
       "      <td>0.266399</td>\n",
       "    </tr>\n",
       "    <tr>\n",
       "      <th>OCNQR</th>\n",
       "      <td>1.653191</td>\n",
       "      <td>-1.035805</td>\n",
       "      <td>0.247607</td>\n",
       "    </tr>\n",
       "    <tr>\n",
       "      <th>XRHDX</th>\n",
       "      <td>1.514009</td>\n",
       "      <td>-0.760738</td>\n",
       "      <td>0.277267</td>\n",
       "    </tr>\n",
       "    <tr>\n",
       "      <th>TASQL</th>\n",
       "      <td>1.482487</td>\n",
       "      <td>-0.570713</td>\n",
       "      <td>0.322039</td>\n",
       "    </tr>\n",
       "    <tr>\n",
       "      <th>PVKPP</th>\n",
       "      <td>1.412132</td>\n",
       "      <td>-0.528023</td>\n",
       "      <td>0.320582</td>\n",
       "    </tr>\n",
       "    <tr>\n",
       "      <th>IVPZY</th>\n",
       "      <td>1.302049</td>\n",
       "      <td>-0.499206</td>\n",
       "      <td>0.414142</td>\n",
       "    </tr>\n",
       "    <tr>\n",
       "      <th>VOLSW</th>\n",
       "      <td>1.177061</td>\n",
       "      <td>-0.673796</td>\n",
       "      <td>0.513970</td>\n",
       "    </tr>\n",
       "    <tr>\n",
       "      <th>FEZAR</th>\n",
       "      <td>0.858180</td>\n",
       "      <td>-0.870596</td>\n",
       "      <td>0.917122</td>\n",
       "    </tr>\n",
       "    <tr>\n",
       "      <th>PMAJQ</th>\n",
       "      <td>0.464091</td>\n",
       "      <td>-0.919474</td>\n",
       "      <td>1.032473</td>\n",
       "    </tr>\n",
       "    <tr>\n",
       "      <th>QVNVN</th>\n",
       "      <td>0.418811</td>\n",
       "      <td>-0.815984</td>\n",
       "      <td>1.091516</td>\n",
       "    </tr>\n",
       "    <tr>\n",
       "      <th>EHYML</th>\n",
       "      <td>0.401575</td>\n",
       "      <td>-0.819960</td>\n",
       "      <td>1.101409</td>\n",
       "    </tr>\n",
       "    <tr>\n",
       "      <th>UNKRX</th>\n",
       "      <td>0.427064</td>\n",
       "      <td>-0.976758</td>\n",
       "      <td>0.963548</td>\n",
       "    </tr>\n",
       "    <tr>\n",
       "      <th>ENSNC</th>\n",
       "      <td>0.510085</td>\n",
       "      <td>-1.223259</td>\n",
       "      <td>1.164236</td>\n",
       "    </tr>\n",
       "    <tr>\n",
       "      <th>ZHLDR</th>\n",
       "      <td>0.438824</td>\n",
       "      <td>-0.841908</td>\n",
       "      <td>0.727829</td>\n",
       "    </tr>\n",
       "    <tr>\n",
       "      <th>IVBAI</th>\n",
       "      <td>0.814499</td>\n",
       "      <td>-0.986668</td>\n",
       "      <td>0.436955</td>\n",
       "    </tr>\n",
       "    <tr>\n",
       "      <th>PRBQK</th>\n",
       "      <td>0.699503</td>\n",
       "      <td>-1.066541</td>\n",
       "      <td>0.395490</td>\n",
       "    </tr>\n",
       "    <tr>\n",
       "      <th>AGSGC</th>\n",
       "      <td>0.570385</td>\n",
       "      <td>-1.206075</td>\n",
       "      <td>0.321146</td>\n",
       "    </tr>\n",
       "    <tr>\n",
       "      <th>SVXRV</th>\n",
       "      <td>0.735443</td>\n",
       "      <td>-0.829228</td>\n",
       "      <td>0.233772</td>\n",
       "    </tr>\n",
       "    <tr>\n",
       "      <th>DBEKB</th>\n",
       "      <td>0.680015</td>\n",
       "      <td>-0.786709</td>\n",
       "      <td>0.192253</td>\n",
       "    </tr>\n",
       "    <tr>\n",
       "      <th>BKQRA</th>\n",
       "      <td>0.735639</td>\n",
       "      <td>-0.925895</td>\n",
       "      <td>0.280559</td>\n",
       "    </tr>\n",
       "    <tr>\n",
       "      <th>COIXS</th>\n",
       "      <td>0.928284</td>\n",
       "      <td>-1.118032</td>\n",
       "      <td>0.362146</td>\n",
       "    </tr>\n",
       "    <tr>\n",
       "      <th>JPHKQ</th>\n",
       "      <td>0.804163</td>\n",
       "      <td>-1.213042</td>\n",
       "      <td>0.383530</td>\n",
       "    </tr>\n",
       "    <tr>\n",
       "      <th>AVAXF</th>\n",
       "      <td>0.633398</td>\n",
       "      <td>-1.417345</td>\n",
       "      <td>0.180839</td>\n",
       "    </tr>\n",
       "    <tr>\n",
       "      <th>TMUIV</th>\n",
       "      <td>0.842174</td>\n",
       "      <td>-1.508495</td>\n",
       "      <td>0.379001</td>\n",
       "    </tr>\n",
       "    <tr>\n",
       "      <th>OLSES</th>\n",
       "      <td>0.625939</td>\n",
       "      <td>-1.268617</td>\n",
       "      <td>0.456904</td>\n",
       "    </tr>\n",
       "    <tr>\n",
       "      <th>XHBMA</th>\n",
       "      <td>0.758366</td>\n",
       "      <td>-1.199118</td>\n",
       "      <td>0.438500</td>\n",
       "    </tr>\n",
       "    <tr>\n",
       "      <th>PVNSQ</th>\n",
       "      <td>0.776003</td>\n",
       "      <td>-1.069278</td>\n",
       "      <td>0.585892</td>\n",
       "    </tr>\n",
       "    <tr>\n",
       "      <th>DSUDQ</th>\n",
       "      <td>0.780853</td>\n",
       "      <td>-1.052138</td>\n",
       "      <td>0.611448</td>\n",
       "    </tr>\n",
       "    <tr>\n",
       "      <th>VAUBQ</th>\n",
       "      <td>0.803362</td>\n",
       "      <td>-1.150281</td>\n",
       "      <td>0.580931</td>\n",
       "    </tr>\n",
       "    <tr>\n",
       "      <th>WFHYR</th>\n",
       "      <td>0.990036</td>\n",
       "      <td>-1.140991</td>\n",
       "      <td>0.441536</td>\n",
       "    </tr>\n",
       "    <tr>\n",
       "      <th>KOZRX</th>\n",
       "      <td>0.837594</td>\n",
       "      <td>-0.979596</td>\n",
       "      <td>0.466672</td>\n",
       "    </tr>\n",
       "    <tr>\n",
       "      <th>KZXXM</th>\n",
       "      <td>1.062280</td>\n",
       "      <td>-0.939429</td>\n",
       "      <td>0.393069</td>\n",
       "    </tr>\n",
       "    <tr>\n",
       "      <th>DQVOX</th>\n",
       "      <td>0.976168</td>\n",
       "      <td>-0.855282</td>\n",
       "      <td>0.340889</td>\n",
       "    </tr>\n",
       "    <tr>\n",
       "      <th>DOUUI</th>\n",
       "      <td>1.145377</td>\n",
       "      <td>-0.979407</td>\n",
       "      <td>0.239214</td>\n",
       "    </tr>\n",
       "    <tr>\n",
       "      <th>SXQGF</th>\n",
       "      <td>0.990608</td>\n",
       "      <td>-1.027554</td>\n",
       "      <td>0.019728</td>\n",
       "    </tr>\n",
       "    <tr>\n",
       "      <th>ZCWOH</th>\n",
       "      <td>0.911613</td>\n",
       "      <td>-0.944018</td>\n",
       "      <td>0.109203</td>\n",
       "    </tr>\n",
       "    <tr>\n",
       "      <th>ZIAVV</th>\n",
       "      <td>0.701706</td>\n",
       "      <td>-1.009859</td>\n",
       "      <td>0.141381</td>\n",
       "    </tr>\n",
       "    <tr>\n",
       "      <th>DMLQP</th>\n",
       "      <td>0.582221</td>\n",
       "      <td>-1.073701</td>\n",
       "      <td>0.068287</td>\n",
       "    </tr>\n",
       "    <tr>\n",
       "      <th>QJVKH</th>\n",
       "      <td>0.705752</td>\n",
       "      <td>-1.063371</td>\n",
       "      <td>-0.074529</td>\n",
       "    </tr>\n",
       "    <tr>\n",
       "      <th>ZKKRO</th>\n",
       "      <td>0.423882</td>\n",
       "      <td>-0.945074</td>\n",
       "      <td>-0.455400</td>\n",
       "    </tr>\n",
       "    <tr>\n",
       "      <th>AHBAH</th>\n",
       "      <td>0.726244</td>\n",
       "      <td>-0.950125</td>\n",
       "      <td>-0.319680</td>\n",
       "    </tr>\n",
       "    <tr>\n",
       "      <th>YZWFL</th>\n",
       "      <td>0.756644</td>\n",
       "      <td>-0.532854</td>\n",
       "      <td>-0.570448</td>\n",
       "    </tr>\n",
       "    <tr>\n",
       "      <th>HPJIH</th>\n",
       "      <td>0.647760</td>\n",
       "      <td>-1.469649</td>\n",
       "      <td>0.220809</td>\n",
       "    </tr>\n",
       "    <tr>\n",
       "      <th>TBBIF</th>\n",
       "      <td>0.493438</td>\n",
       "      <td>-0.689916</td>\n",
       "      <td>0.099777</td>\n",
       "    </tr>\n",
       "    <tr>\n",
       "      <th>GLCGQ</th>\n",
       "      <td>0.569376</td>\n",
       "      <td>-0.770210</td>\n",
       "      <td>0.311870</td>\n",
       "    </tr>\n",
       "    <tr>\n",
       "      <th>MGCNS</th>\n",
       "      <td>0.562624</td>\n",
       "      <td>-0.859160</td>\n",
       "      <td>0.356051</td>\n",
       "    </tr>\n",
       "    <tr>\n",
       "      <th>TIGCN</th>\n",
       "      <td>0.781441</td>\n",
       "      <td>-0.803021</td>\n",
       "      <td>0.283736</td>\n",
       "    </tr>\n",
       "    <tr>\n",
       "      <th>LFNUZ</th>\n",
       "      <td>0.864499</td>\n",
       "      <td>-0.828788</td>\n",
       "      <td>0.393017</td>\n",
       "    </tr>\n",
       "    <tr>\n",
       "      <th>...</th>\n",
       "      <td>...</td>\n",
       "      <td>...</td>\n",
       "      <td>...</td>\n",
       "    </tr>\n",
       "    <tr>\n",
       "      <th>NFBQO</th>\n",
       "      <td>0.493437</td>\n",
       "      <td>-1.063536</td>\n",
       "      <td>-0.730323</td>\n",
       "    </tr>\n",
       "    <tr>\n",
       "      <th>GIXMH</th>\n",
       "      <td>0.768150</td>\n",
       "      <td>-1.018951</td>\n",
       "      <td>-0.464239</td>\n",
       "    </tr>\n",
       "    <tr>\n",
       "      <th>XCVKP</th>\n",
       "      <td>0.623618</td>\n",
       "      <td>-1.094420</td>\n",
       "      <td>-0.331548</td>\n",
       "    </tr>\n",
       "    <tr>\n",
       "      <th>DWDMM</th>\n",
       "      <td>0.887491</td>\n",
       "      <td>-0.810367</td>\n",
       "      <td>0.114534</td>\n",
       "    </tr>\n",
       "    <tr>\n",
       "      <th>DBKFY</th>\n",
       "      <td>0.926973</td>\n",
       "      <td>-0.679543</td>\n",
       "      <td>0.292516</td>\n",
       "    </tr>\n",
       "    <tr>\n",
       "      <th>ZVWZS</th>\n",
       "      <td>0.893949</td>\n",
       "      <td>-0.546770</td>\n",
       "      <td>0.495973</td>\n",
       "    </tr>\n",
       "    <tr>\n",
       "      <th>ETQCI</th>\n",
       "      <td>0.876289</td>\n",
       "      <td>-0.548080</td>\n",
       "      <td>0.509874</td>\n",
       "    </tr>\n",
       "    <tr>\n",
       "      <th>FWCNT</th>\n",
       "      <td>1.051078</td>\n",
       "      <td>-0.483022</td>\n",
       "      <td>0.538049</td>\n",
       "    </tr>\n",
       "    <tr>\n",
       "      <th>LUPJS</th>\n",
       "      <td>0.956595</td>\n",
       "      <td>-0.961374</td>\n",
       "      <td>0.435608</td>\n",
       "    </tr>\n",
       "    <tr>\n",
       "      <th>YEABT</th>\n",
       "      <td>1.049168</td>\n",
       "      <td>-0.992320</td>\n",
       "      <td>0.445789</td>\n",
       "    </tr>\n",
       "    <tr>\n",
       "      <th>PYAGN</th>\n",
       "      <td>0.983224</td>\n",
       "      <td>-1.152824</td>\n",
       "      <td>0.395112</td>\n",
       "    </tr>\n",
       "    <tr>\n",
       "      <th>HYFCN</th>\n",
       "      <td>0.822349</td>\n",
       "      <td>-1.178558</td>\n",
       "      <td>0.306862</td>\n",
       "    </tr>\n",
       "    <tr>\n",
       "      <th>JHXHC</th>\n",
       "      <td>0.826639</td>\n",
       "      <td>-1.100308</td>\n",
       "      <td>0.333894</td>\n",
       "    </tr>\n",
       "    <tr>\n",
       "      <th>OEWKZ</th>\n",
       "      <td>0.936506</td>\n",
       "      <td>-1.331295</td>\n",
       "      <td>0.372104</td>\n",
       "    </tr>\n",
       "    <tr>\n",
       "      <th>KGNQQ</th>\n",
       "      <td>0.801714</td>\n",
       "      <td>-1.092450</td>\n",
       "      <td>0.583037</td>\n",
       "    </tr>\n",
       "    <tr>\n",
       "      <th>VSQKX</th>\n",
       "      <td>1.210518</td>\n",
       "      <td>-1.125360</td>\n",
       "      <td>1.229617</td>\n",
       "    </tr>\n",
       "    <tr>\n",
       "      <th>NPODI</th>\n",
       "      <td>0.790853</td>\n",
       "      <td>-0.884732</td>\n",
       "      <td>0.821645</td>\n",
       "    </tr>\n",
       "    <tr>\n",
       "      <th>LCDLW</th>\n",
       "      <td>0.562914</td>\n",
       "      <td>-0.952566</td>\n",
       "      <td>0.925899</td>\n",
       "    </tr>\n",
       "    <tr>\n",
       "      <th>HFHAZ</th>\n",
       "      <td>0.769613</td>\n",
       "      <td>-0.960638</td>\n",
       "      <td>0.958172</td>\n",
       "    </tr>\n",
       "    <tr>\n",
       "      <th>GWZNZ</th>\n",
       "      <td>-0.966008</td>\n",
       "      <td>-0.685131</td>\n",
       "      <td>-0.034188</td>\n",
       "    </tr>\n",
       "    <tr>\n",
       "      <th>TYNOT</th>\n",
       "      <td>-0.051921</td>\n",
       "      <td>-0.743807</td>\n",
       "      <td>0.060301</td>\n",
       "    </tr>\n",
       "    <tr>\n",
       "      <th>KTDTC</th>\n",
       "      <td>0.395330</td>\n",
       "      <td>-0.327573</td>\n",
       "      <td>-0.146468</td>\n",
       "    </tr>\n",
       "    <tr>\n",
       "      <th>VGTXP</th>\n",
       "      <td>0.970654</td>\n",
       "      <td>-0.340938</td>\n",
       "      <td>0.130215</td>\n",
       "    </tr>\n",
       "    <tr>\n",
       "      <th>YOHNH</th>\n",
       "      <td>0.591677</td>\n",
       "      <td>-0.402197</td>\n",
       "      <td>0.202699</td>\n",
       "    </tr>\n",
       "    <tr>\n",
       "      <th>AXPVV</th>\n",
       "      <td>0.602302</td>\n",
       "      <td>-0.352755</td>\n",
       "      <td>0.246180</td>\n",
       "    </tr>\n",
       "    <tr>\n",
       "      <th>NELJF</th>\n",
       "      <td>0.556330</td>\n",
       "      <td>-0.332947</td>\n",
       "      <td>0.337860</td>\n",
       "    </tr>\n",
       "    <tr>\n",
       "      <th>KUECW</th>\n",
       "      <td>0.477426</td>\n",
       "      <td>-0.317856</td>\n",
       "      <td>0.294545</td>\n",
       "    </tr>\n",
       "    <tr>\n",
       "      <th>BTGAL</th>\n",
       "      <td>0.653887</td>\n",
       "      <td>-0.984702</td>\n",
       "      <td>0.143407</td>\n",
       "    </tr>\n",
       "    <tr>\n",
       "      <th>VMIXC</th>\n",
       "      <td>0.808224</td>\n",
       "      <td>-1.041648</td>\n",
       "      <td>0.201733</td>\n",
       "    </tr>\n",
       "    <tr>\n",
       "      <th>QAHSC</th>\n",
       "      <td>1.335652</td>\n",
       "      <td>-1.268400</td>\n",
       "      <td>-0.115257</td>\n",
       "    </tr>\n",
       "    <tr>\n",
       "      <th>VWJVC</th>\n",
       "      <td>1.198939</td>\n",
       "      <td>-1.034358</td>\n",
       "      <td>0.020647</td>\n",
       "    </tr>\n",
       "    <tr>\n",
       "      <th>RTVCA</th>\n",
       "      <td>1.356618</td>\n",
       "      <td>-0.905330</td>\n",
       "      <td>0.193965</td>\n",
       "    </tr>\n",
       "    <tr>\n",
       "      <th>AEGXS</th>\n",
       "      <td>1.055465</td>\n",
       "      <td>-1.032394</td>\n",
       "      <td>0.028873</td>\n",
       "    </tr>\n",
       "    <tr>\n",
       "      <th>VYSHG</th>\n",
       "      <td>1.029112</td>\n",
       "      <td>-0.883262</td>\n",
       "      <td>0.169080</td>\n",
       "    </tr>\n",
       "    <tr>\n",
       "      <th>ZRTMY</th>\n",
       "      <td>0.990846</td>\n",
       "      <td>-0.715478</td>\n",
       "      <td>0.227616</td>\n",
       "    </tr>\n",
       "    <tr>\n",
       "      <th>YUWGT</th>\n",
       "      <td>0.121262</td>\n",
       "      <td>-0.596738</td>\n",
       "      <td>0.906987</td>\n",
       "    </tr>\n",
       "    <tr>\n",
       "      <th>ZGGJQ</th>\n",
       "      <td>-1.036334</td>\n",
       "      <td>0.547644</td>\n",
       "      <td>1.337140</td>\n",
       "    </tr>\n",
       "    <tr>\n",
       "      <th>HDTMN</th>\n",
       "      <td>-0.708894</td>\n",
       "      <td>0.846237</td>\n",
       "      <td>1.013352</td>\n",
       "    </tr>\n",
       "    <tr>\n",
       "      <th>MZLKZ</th>\n",
       "      <td>0.125068</td>\n",
       "      <td>-0.528270</td>\n",
       "      <td>1.138833</td>\n",
       "    </tr>\n",
       "    <tr>\n",
       "      <th>ZNVHT</th>\n",
       "      <td>0.379763</td>\n",
       "      <td>-1.835855</td>\n",
       "      <td>1.189286</td>\n",
       "    </tr>\n",
       "    <tr>\n",
       "      <th>GMCLD</th>\n",
       "      <td>0.635388</td>\n",
       "      <td>-1.575134</td>\n",
       "      <td>0.876119</td>\n",
       "    </tr>\n",
       "    <tr>\n",
       "      <th>JRNBV</th>\n",
       "      <td>0.826208</td>\n",
       "      <td>-1.637179</td>\n",
       "      <td>0.669742</td>\n",
       "    </tr>\n",
       "    <tr>\n",
       "      <th>LKVOU</th>\n",
       "      <td>1.669735</td>\n",
       "      <td>-2.031834</td>\n",
       "      <td>0.527448</td>\n",
       "    </tr>\n",
       "    <tr>\n",
       "      <th>AZEME</th>\n",
       "      <td>1.511569</td>\n",
       "      <td>-1.521703</td>\n",
       "      <td>0.302146</td>\n",
       "    </tr>\n",
       "    <tr>\n",
       "      <th>PUQQG</th>\n",
       "      <td>0.405553</td>\n",
       "      <td>-1.161906</td>\n",
       "      <td>0.395148</td>\n",
       "    </tr>\n",
       "    <tr>\n",
       "      <th>XZHYB</th>\n",
       "      <td>0.662846</td>\n",
       "      <td>-1.176178</td>\n",
       "      <td>0.309286</td>\n",
       "    </tr>\n",
       "    <tr>\n",
       "      <th>VESRG</th>\n",
       "      <td>0.667797</td>\n",
       "      <td>-1.207171</td>\n",
       "      <td>0.310491</td>\n",
       "    </tr>\n",
       "    <tr>\n",
       "      <th>ARPWX</th>\n",
       "      <td>0.499895</td>\n",
       "      <td>-0.848822</td>\n",
       "      <td>-0.238185</td>\n",
       "    </tr>\n",
       "    <tr>\n",
       "      <th>PMUCA</th>\n",
       "      <td>0.170283</td>\n",
       "      <td>-0.776787</td>\n",
       "      <td>-0.115176</td>\n",
       "    </tr>\n",
       "    <tr>\n",
       "      <th>YPVZL</th>\n",
       "      <td>0.247035</td>\n",
       "      <td>-0.698597</td>\n",
       "      <td>0.051599</td>\n",
       "    </tr>\n",
       "  </tbody>\n",
       "</table>\n",
       "<p>991 rows × 3 columns</p>\n",
       "</div>"
      ],
      "text/plain": [
       "             f1        f2        f3\n",
       "FYNCS  1.523291 -1.301151  0.514681\n",
       "MTSHZ  1.703277 -1.139683  0.547610\n",
       "OMLRE  1.590718 -1.075082  0.266399\n",
       "OCNQR  1.653191 -1.035805  0.247607\n",
       "XRHDX  1.514009 -0.760738  0.277267\n",
       "TASQL  1.482487 -0.570713  0.322039\n",
       "PVKPP  1.412132 -0.528023  0.320582\n",
       "IVPZY  1.302049 -0.499206  0.414142\n",
       "VOLSW  1.177061 -0.673796  0.513970\n",
       "FEZAR  0.858180 -0.870596  0.917122\n",
       "PMAJQ  0.464091 -0.919474  1.032473\n",
       "QVNVN  0.418811 -0.815984  1.091516\n",
       "EHYML  0.401575 -0.819960  1.101409\n",
       "UNKRX  0.427064 -0.976758  0.963548\n",
       "ENSNC  0.510085 -1.223259  1.164236\n",
       "ZHLDR  0.438824 -0.841908  0.727829\n",
       "IVBAI  0.814499 -0.986668  0.436955\n",
       "PRBQK  0.699503 -1.066541  0.395490\n",
       "AGSGC  0.570385 -1.206075  0.321146\n",
       "SVXRV  0.735443 -0.829228  0.233772\n",
       "DBEKB  0.680015 -0.786709  0.192253\n",
       "BKQRA  0.735639 -0.925895  0.280559\n",
       "COIXS  0.928284 -1.118032  0.362146\n",
       "JPHKQ  0.804163 -1.213042  0.383530\n",
       "AVAXF  0.633398 -1.417345  0.180839\n",
       "TMUIV  0.842174 -1.508495  0.379001\n",
       "OLSES  0.625939 -1.268617  0.456904\n",
       "XHBMA  0.758366 -1.199118  0.438500\n",
       "PVNSQ  0.776003 -1.069278  0.585892\n",
       "DSUDQ  0.780853 -1.052138  0.611448\n",
       "VAUBQ  0.803362 -1.150281  0.580931\n",
       "WFHYR  0.990036 -1.140991  0.441536\n",
       "KOZRX  0.837594 -0.979596  0.466672\n",
       "KZXXM  1.062280 -0.939429  0.393069\n",
       "DQVOX  0.976168 -0.855282  0.340889\n",
       "DOUUI  1.145377 -0.979407  0.239214\n",
       "SXQGF  0.990608 -1.027554  0.019728\n",
       "ZCWOH  0.911613 -0.944018  0.109203\n",
       "ZIAVV  0.701706 -1.009859  0.141381\n",
       "DMLQP  0.582221 -1.073701  0.068287\n",
       "QJVKH  0.705752 -1.063371 -0.074529\n",
       "ZKKRO  0.423882 -0.945074 -0.455400\n",
       "AHBAH  0.726244 -0.950125 -0.319680\n",
       "YZWFL  0.756644 -0.532854 -0.570448\n",
       "HPJIH  0.647760 -1.469649  0.220809\n",
       "TBBIF  0.493438 -0.689916  0.099777\n",
       "GLCGQ  0.569376 -0.770210  0.311870\n",
       "MGCNS  0.562624 -0.859160  0.356051\n",
       "TIGCN  0.781441 -0.803021  0.283736\n",
       "LFNUZ  0.864499 -0.828788  0.393017\n",
       "...         ...       ...       ...\n",
       "NFBQO  0.493437 -1.063536 -0.730323\n",
       "GIXMH  0.768150 -1.018951 -0.464239\n",
       "XCVKP  0.623618 -1.094420 -0.331548\n",
       "DWDMM  0.887491 -0.810367  0.114534\n",
       "DBKFY  0.926973 -0.679543  0.292516\n",
       "ZVWZS  0.893949 -0.546770  0.495973\n",
       "ETQCI  0.876289 -0.548080  0.509874\n",
       "FWCNT  1.051078 -0.483022  0.538049\n",
       "LUPJS  0.956595 -0.961374  0.435608\n",
       "YEABT  1.049168 -0.992320  0.445789\n",
       "PYAGN  0.983224 -1.152824  0.395112\n",
       "HYFCN  0.822349 -1.178558  0.306862\n",
       "JHXHC  0.826639 -1.100308  0.333894\n",
       "OEWKZ  0.936506 -1.331295  0.372104\n",
       "KGNQQ  0.801714 -1.092450  0.583037\n",
       "VSQKX  1.210518 -1.125360  1.229617\n",
       "NPODI  0.790853 -0.884732  0.821645\n",
       "LCDLW  0.562914 -0.952566  0.925899\n",
       "HFHAZ  0.769613 -0.960638  0.958172\n",
       "GWZNZ -0.966008 -0.685131 -0.034188\n",
       "TYNOT -0.051921 -0.743807  0.060301\n",
       "KTDTC  0.395330 -0.327573 -0.146468\n",
       "VGTXP  0.970654 -0.340938  0.130215\n",
       "YOHNH  0.591677 -0.402197  0.202699\n",
       "AXPVV  0.602302 -0.352755  0.246180\n",
       "NELJF  0.556330 -0.332947  0.337860\n",
       "KUECW  0.477426 -0.317856  0.294545\n",
       "BTGAL  0.653887 -0.984702  0.143407\n",
       "VMIXC  0.808224 -1.041648  0.201733\n",
       "QAHSC  1.335652 -1.268400 -0.115257\n",
       "VWJVC  1.198939 -1.034358  0.020647\n",
       "RTVCA  1.356618 -0.905330  0.193965\n",
       "AEGXS  1.055465 -1.032394  0.028873\n",
       "VYSHG  1.029112 -0.883262  0.169080\n",
       "ZRTMY  0.990846 -0.715478  0.227616\n",
       "YUWGT  0.121262 -0.596738  0.906987\n",
       "ZGGJQ -1.036334  0.547644  1.337140\n",
       "HDTMN -0.708894  0.846237  1.013352\n",
       "MZLKZ  0.125068 -0.528270  1.138833\n",
       "ZNVHT  0.379763 -1.835855  1.189286\n",
       "GMCLD  0.635388 -1.575134  0.876119\n",
       "JRNBV  0.826208 -1.637179  0.669742\n",
       "LKVOU  1.669735 -2.031834  0.527448\n",
       "AZEME  1.511569 -1.521703  0.302146\n",
       "PUQQG  0.405553 -1.161906  0.395148\n",
       "XZHYB  0.662846 -1.176178  0.309286\n",
       "VESRG  0.667797 -1.207171  0.310491\n",
       "ARPWX  0.499895 -0.848822 -0.238185\n",
       "PMUCA  0.170283 -0.776787 -0.115176\n",
       "YPVZL  0.247035 -0.698597  0.051599\n",
       "\n",
       "[991 rows x 3 columns]"
      ]
     },
     "execution_count": 57,
     "metadata": {},
     "output_type": "execute_result"
    }
   ],
   "source": [
    "from pyfinance import ols\n",
    "from pyfinance.ols import PandasRollingOLS\n",
    "model=PandasRollingOLS(y=port, x=factors,window=10)\n",
    "model.beta"
   ]
  },
  {
   "cell_type": "code",
   "execution_count": 58,
   "metadata": {},
   "outputs": [],
   "source": [
    "def beta_exposure(chunk, factors=None):\n",
    "    return feature1(y=chunk, x=factors).beta"
   ]
  },
  {
   "cell_type": "code",
   "execution_count": 59,
   "metadata": {},
   "outputs": [],
   "source": [
    "# Not working properly - Unknown issue\n",
    "#by_ind = port.groupby(industries)\n",
    "#exposures = by_ind.apply(beta_exposure, factors=factors)\n",
    "#exposures.unstack()"
   ]
  },
  {
   "cell_type": "markdown",
   "metadata": {},
   "source": [
    "### Decile and quartile analysis"
   ]
  },
  {
   "cell_type": "code",
   "execution_count": 60,
   "metadata": {},
   "outputs": [
    {
     "name": "stdout",
     "output_type": "stream",
     "text": [
      "<class 'pandas.core.frame.DataFrame'>\n",
      "DatetimeIndex: 3313 entries, 2006-01-03 to 2019-03-04\n",
      "Data columns (total 6 columns):\n",
      "High         3313 non-null float64\n",
      "Low          3313 non-null float64\n",
      "Open         3313 non-null float64\n",
      "Close        3313 non-null float64\n",
      "Volume       3313 non-null float64\n",
      "Adj Close    3313 non-null float64\n",
      "dtypes: float64(6)\n",
      "memory usage: 181.2 KB\n"
     ]
    }
   ],
   "source": [
    "import pandas_datareader.data as web\n",
    "data = web.get_data_yahoo('SPY', '2006-01-01')\n",
    "data.info()"
   ]
  },
  {
   "cell_type": "code",
   "execution_count": 61,
   "metadata": {},
   "outputs": [],
   "source": [
    "#px = data['Adj Close']\n",
    "#returns = px.pct_change()\n",
    "\n",
    "#def to_index(rets):\n",
    "#    index = (1 + rets).cumprod()\n",
    "#    first_loc = max(index.index.get_loc(index.idxmax()) - 1, 0)\n",
    "#    index.values[first_loc] = 1\n",
    "#    return index\n",
    "\n",
    "#def trend_signal(rets, lookback, lag):\n",
    "#    signal = rets.rolling(lookback, min_periods=lookback - 5).sum()\n",
    "#    #signal = pd.rolling_sum(rets, lookback, min_periods=lookback - 5)\n",
    "#    return signal.shift(lag)"
   ]
  },
  {
   "cell_type": "code",
   "execution_count": 62,
   "metadata": {},
   "outputs": [],
   "source": [
    "#signal = trend_signal(returns, 100, 3)\n",
    "#trade_friday = signal.resample('W-FRI').resample('B').ffill()\n",
    "#trade_rets = trade_friday.shift(1) * returns\n",
    "#trade_rets = trade_rets[:len(returns)]"
   ]
  },
  {
   "cell_type": "code",
   "execution_count": 63,
   "metadata": {},
   "outputs": [],
   "source": [
    "#to_index(trade_rets).plot()"
   ]
  },
  {
   "cell_type": "code",
   "execution_count": 64,
   "metadata": {},
   "outputs": [],
   "source": [
    "#vol = pd.rolling_std(returns, 250, min_periods=200) * np.sqrt(250)\n",
    "\n",
    "#def sharpe(rets, ann=250):\n",
    "#    return rets.mean() / rets.std()  * np.sqrt(ann)"
   ]
  },
  {
   "cell_type": "code",
   "execution_count": 65,
   "metadata": {},
   "outputs": [],
   "source": [
    "#cats = pd.qcut(vol, 4)\n",
    "#print('cats: %d, trade_rets: %d, vol: %d' % (len(cats), len(trade_rets), len(vol)))"
   ]
  },
  {
   "cell_type": "code",
   "execution_count": 66,
   "metadata": {},
   "outputs": [],
   "source": [
    "#trade_rets.groupby(cats).agg(sharpe)"
   ]
  },
  {
   "cell_type": "markdown",
   "metadata": {},
   "source": [
    "## More example applications"
   ]
  },
  {
   "cell_type": "markdown",
   "metadata": {},
   "source": [
    "## Signal frontier analysis"
   ]
  },
  {
   "cell_type": "markdown",
   "metadata": {},
   "source": [
    "### Balanced Portfolio\n",
    "LOW - Lowes Home Improvement  \n",
    "SBUX - Starbucks\n",
    "FB - Facebook  \n",
    "JNJ - Johnson & Johnson  \n",
    "DAL - Delta Airlines  \n",
    "BAC - Bank of America Corporation  \n",
    "GE - General Electric"
   ]
  },
  {
   "cell_type": "code",
   "execution_count": 67,
   "metadata": {},
   "outputs": [],
   "source": [
    "import datetime\n",
    "import pandas as pd\n",
    "\n",
    "start_dt=datetime.datetime(2016,1,4)\n",
    "end_dt=datetime.datetime(2019,2,27)\n",
    "from pandas_datareader import data as web\n",
    "#stock='AAPL'\n",
    "#px=pd.DataFrame({'AAPL':web.get_data_yahoo(stock, start_dt, end_dt)['Adj Close']})\n",
    "#names=['GOOG','MSFT', 'GS','INTC', 'MS', 'BAC', 'C']\n",
    "stock='LOW'\n",
    "px=pd.DataFrame({'LOW':web.get_data_yahoo(stock, start_dt, end_dt)['Adj Close']})\n",
    "names=['SBUX','FB', 'JNJ','DAL', 'BAC', 'GE']\n",
    "for stock in names:\n",
    "    while True:\n",
    "        try:\n",
    "            px[stock]=web.get_data_yahoo(stock, start_dt, end_dt)['Adj Close']\n",
    "            break\n",
    "        except:\n",
    "            print('Unable to read stock: {0}'.format(stock))\n",
    "            print('trying again')\n"
   ]
  },
  {
   "cell_type": "code",
   "execution_count": 68,
   "metadata": {},
   "outputs": [],
   "source": [
    "#px = pd.read_csv('ch11/stock_px.csv')"
   ]
  },
  {
   "cell_type": "code",
   "execution_count": 69,
   "metadata": {},
   "outputs": [],
   "source": [
    "plt.close('all')"
   ]
  },
  {
   "cell_type": "code",
   "execution_count": 70,
   "metadata": {},
   "outputs": [
    {
     "data": {
      "text/plain": [
       "Text(0.5,1,'Cumulative Returns since Jan 2016 - Balanced Portfolio')"
      ]
     },
     "execution_count": 70,
     "metadata": {},
     "output_type": "execute_result"
    },
    {
     "data": {
      "image/png": "[encoded data removed]",
      "text/plain": [
       "<Figure size 432x288 with 1 Axes>"
      ]
     },
     "metadata": {
      "needs_background": "light"
     },
     "output_type": "display_data"
    }
   ],
   "source": [
    "px = px.asfreq('B').fillna(method='pad')\n",
    "rets = px.pct_change()\n",
    "((1 + rets).cumprod() - 1).plot()\n",
    "plt.title('Cumulative Returns since Jan 2016 - Balanced Portfolio')"
   ]
  },
  {
   "cell_type": "code",
   "execution_count": 71,
   "metadata": {},
   "outputs": [],
   "source": [
    "def calc_mom(price, lookback, lag):\n",
    "    mom_ret = price.shift(lag).pct_change(lookback)\n",
    "    ranks = mom_ret.rank(axis=1, ascending=False)\n",
    "    demeaned = ranks.subtract(ranks.mean(axis=1), axis=0)\n",
    "    return demeaned.divide(demeaned.std(axis=1), axis=0)"
   ]
  },
  {
   "cell_type": "code",
   "execution_count": 72,
   "metadata": {},
   "outputs": [],
   "source": [
    "compound = lambda x : (1 + x).prod() - 1\n",
    "daily_sr = lambda x: x.mean() / x.std()\n",
    "\n",
    "def strat_sr(prices, lb, hold):\n",
    "    # Compute portfolio weights\n",
    "    freq = '%dB' % hold\n",
    "    port = calc_mom(prices, lb, lag=1)\n",
    "\n",
    "    daily_rets = prices.pct_change()\n",
    "\n",
    "    # Compute portfolio returns\n",
    "    port = port.shift(1).resample(freq).first()\n",
    "    returns = daily_rets.resample(freq).apply(compound)\n",
    "    port_rets = (port * returns).sum(axis=1)\n",
    "\n",
    "    return daily_sr(port_rets) * np.sqrt(252 / hold)"
   ]
  },
  {
   "cell_type": "code",
   "execution_count": 73,
   "metadata": {},
   "outputs": [
    {
     "data": {
      "text/plain": [
       "-0.41261860266747974"
      ]
     },
     "execution_count": 73,
     "metadata": {},
     "output_type": "execute_result"
    }
   ],
   "source": [
    "strat_sr(px, 70, 30)"
   ]
  },
  {
   "cell_type": "code",
   "execution_count": 74,
   "metadata": {},
   "outputs": [],
   "source": [
    "from collections import defaultdict\n",
    "\n",
    "lookbacks = range(20, 90, 5)\n",
    "holdings = range(20, 90, 5)\n",
    "dd = defaultdict(dict)\n",
    "for lb in lookbacks:\n",
    "    for hold in holdings:\n",
    "        dd[lb][hold] = strat_sr(px, lb, hold)\n",
    "\n",
    "ddf = DataFrame(dd)\n",
    "ddf.index.name = 'Holding Period'\n",
    "ddf.columns.name = 'Lookback Period'"
   ]
  },
  {
   "cell_type": "code",
   "execution_count": 75,
   "metadata": {},
   "outputs": [],
   "source": [
    "import matplotlib.pyplot as plt\n",
    "def heatmap(df, portfolio,cmap=plt.get_cmap('seismic')):\n",
    "    fig = plt.figure()\n",
    "    ax = fig.add_subplot(111)\n",
    "    axim = ax.imshow(df.values, cmap=cmap, interpolation='nearest')\n",
    "    ax.set_xlabel(df.columns.name)\n",
    "    ax.set_xticks(np.arange(len(df.columns)))\n",
    "    ax.set_xticklabels(list(df.columns))\n",
    "    ax.set_ylabel(df.index.name)\n",
    "    ax.set_yticks(np.arange(len(df.index)))\n",
    "    ax.set_yticklabels(list(df.index))\n",
    "    ax.set_title(\"Heatmap - {} Portfolio (Sharpe Ratios)\".format(portfolio))\n",
    "    plt.colorbar(axim)"
   ]
  },
  {
   "cell_type": "code",
   "execution_count": 76,
   "metadata": {},
   "outputs": [
    {
     "data": {
      "image/png": "[encoded data removed]",
      "text/plain": [
       "<Figure size 432x288 with 2 Axes>"
      ]
     },
     "metadata": {
      "needs_background": "light"
     },
     "output_type": "display_data"
    }
   ],
   "source": [
    "heatmap(ddf,'Balanced')\n",
    "plt.show()"
   ]
  },
  {
   "cell_type": "code",
   "execution_count": 77,
   "metadata": {},
   "outputs": [
    {
     "name": "stdout",
     "output_type": "stream",
     "text": [
      "\u001b[4;1;34mPortfolio - Balanced\u001b[0m\n",
      "Max Sharpe Ratio is: 0.480613\n"
     ]
    },
    {
     "data": {
      "text/html": [
       "<div>\n",
       "<style scoped>\n",
       "    .dataframe tbody tr th:only-of-type {\n",
       "        vertical-align: middle;\n",
       "    }\n",
       "\n",
       "    .dataframe tbody tr th {\n",
       "        vertical-align: top;\n",
       "    }\n",
       "\n",
       "    .dataframe thead th {\n",
       "        text-align: right;\n",
       "    }\n",
       "</style>\n",
       "<table border=\"1\" class=\"dataframe\">\n",
       "  <thead>\n",
       "    <tr style=\"text-align: right;\">\n",
       "      <th>Lookback Period</th>\n",
       "      <th>20</th>\n",
       "      <th>25</th>\n",
       "      <th>30</th>\n",
       "      <th>35</th>\n",
       "      <th>40</th>\n",
       "      <th>...</th>\n",
       "      <th>65</th>\n",
       "      <th>70</th>\n",
       "      <th>75</th>\n",
       "      <th>80</th>\n",
       "      <th>85</th>\n",
       "    </tr>\n",
       "    <tr>\n",
       "      <th>Holding Period</th>\n",
       "      <th></th>\n",
       "      <th></th>\n",
       "      <th></th>\n",
       "      <th></th>\n",
       "      <th></th>\n",
       "      <th></th>\n",
       "      <th></th>\n",
       "      <th></th>\n",
       "      <th></th>\n",
       "      <th></th>\n",
       "      <th></th>\n",
       "    </tr>\n",
       "  </thead>\n",
       "  <tbody>\n",
       "    <tr>\n",
       "      <th>45</th>\n",
       "      <td>0.480613</td>\n",
       "      <td>-0.061307</td>\n",
       "      <td>-0.30167</td>\n",
       "      <td>0.135244</td>\n",
       "      <td>0.232682</td>\n",
       "      <td>...</td>\n",
       "      <td>-0.175952</td>\n",
       "      <td>-0.052799</td>\n",
       "      <td>0.362224</td>\n",
       "      <td>0.221317</td>\n",
       "      <td>0.126624</td>\n",
       "    </tr>\n",
       "  </tbody>\n",
       "</table>\n",
       "<p>1 rows × 14 columns</p>\n",
       "</div>"
      ],
      "text/plain": [
       "Lookback Period        20        25       30        35        40    ...     \\\n",
       "Holding Period                                                      ...      \n",
       "45               0.480613 -0.061307 -0.30167  0.135244  0.232682    ...      \n",
       "\n",
       "Lookback Period        65        70        75        80        85  \n",
       "Holding Period                                                     \n",
       "45              -0.175952 -0.052799  0.362224  0.221317  0.126624  \n",
       "\n",
       "[1 rows x 14 columns]"
      ]
     },
     "execution_count": 77,
     "metadata": {},
     "output_type": "execute_result"
    }
   ],
   "source": [
    "# max for each row\n",
    "maxForRow = ddf.max(axis=0)\n",
    "globalMax = maxForRow.max()\n",
    "# https://stackoverflow.com/questions/23271575/printing-bold-colored-etc-text-in-ipython-qtconsole/46934204\n",
    "print('\\x1b[4;1;34m'+'Portfolio - Balanced'+'\\x1b[0m')\n",
    "print (\"Max Sharpe Ratio is: %f\" % globalMax)\n",
    "ddf[ddf.values==globalMax]"
   ]
  },
  {
   "cell_type": "code",
   "execution_count": 78,
   "metadata": {},
   "outputs": [
    {
     "name": "stdout",
     "output_type": "stream",
     "text": [
      "\u001b[4;1;34mPortfolio - Balanced\u001b[0m\n",
      "Min Sharpe Ratio is: -1.326048\n"
     ]
    },
    {
     "data": {
      "text/html": [
       "<div>\n",
       "<style scoped>\n",
       "    .dataframe tbody tr th:only-of-type {\n",
       "        vertical-align: middle;\n",
       "    }\n",
       "\n",
       "    .dataframe tbody tr th {\n",
       "        vertical-align: top;\n",
       "    }\n",
       "\n",
       "    .dataframe thead th {\n",
       "        text-align: right;\n",
       "    }\n",
       "</style>\n",
       "<table border=\"1\" class=\"dataframe\">\n",
       "  <thead>\n",
       "    <tr style=\"text-align: right;\">\n",
       "      <th>Lookback Period</th>\n",
       "      <th>20</th>\n",
       "      <th>25</th>\n",
       "      <th>30</th>\n",
       "      <th>35</th>\n",
       "      <th>40</th>\n",
       "      <th>...</th>\n",
       "      <th>65</th>\n",
       "      <th>70</th>\n",
       "      <th>75</th>\n",
       "      <th>80</th>\n",
       "      <th>85</th>\n",
       "    </tr>\n",
       "    <tr>\n",
       "      <th>Holding Period</th>\n",
       "      <th></th>\n",
       "      <th></th>\n",
       "      <th></th>\n",
       "      <th></th>\n",
       "      <th></th>\n",
       "      <th></th>\n",
       "      <th></th>\n",
       "      <th></th>\n",
       "      <th></th>\n",
       "      <th></th>\n",
       "      <th></th>\n",
       "    </tr>\n",
       "  </thead>\n",
       "  <tbody>\n",
       "    <tr>\n",
       "      <th>25</th>\n",
       "      <td>-1.326048</td>\n",
       "      <td>-0.916913</td>\n",
       "      <td>-1.212588</td>\n",
       "      <td>-0.651594</td>\n",
       "      <td>-0.373619</td>\n",
       "      <td>...</td>\n",
       "      <td>-0.28885</td>\n",
       "      <td>-0.480775</td>\n",
       "      <td>-0.311486</td>\n",
       "      <td>-0.176782</td>\n",
       "      <td>0.010096</td>\n",
       "    </tr>\n",
       "  </tbody>\n",
       "</table>\n",
       "<p>1 rows × 14 columns</p>\n",
       "</div>"
      ],
      "text/plain": [
       "Lookback Period        20        25        30        35        40    ...     \\\n",
       "Holding Period                                                       ...      \n",
       "25              -1.326048 -0.916913 -1.212588 -0.651594 -0.373619    ...      \n",
       "\n",
       "Lookback Period       65        70        75        80        85  \n",
       "Holding Period                                                    \n",
       "25              -0.28885 -0.480775 -0.311486 -0.176782  0.010096  \n",
       "\n",
       "[1 rows x 14 columns]"
      ]
     },
     "execution_count": 78,
     "metadata": {},
     "output_type": "execute_result"
    }
   ],
   "source": [
    "# min for each row\n",
    "minForRow = ddf.min(axis=0)\n",
    "globalMin = minForRow.min()\n",
    "print('\\x1b[4;1;34m'+'Portfolio - Balanced'+'\\x1b[0m')\n",
    "print (\"Min Sharpe Ratio is: %f\" % globalMin)\n",
    "ddf[ddf.values==globalMin]"
   ]
  },
  {
   "cell_type": "markdown",
   "metadata": {},
   "source": [
    "---"
   ]
  },
  {
   "cell_type": "markdown",
   "metadata": {},
   "source": [
    "### Financial Services Portfolio\n",
    "JPM - JP Morgan Chase  \n",
    "GS - Goldman Sachs  \n",
    "BAC - Bank of America  \n",
    "CME - CME Group  \n",
    "MS - Morgan Stanley  \n",
    "USB - US Bancorp"
   ]
  },
  {
   "cell_type": "code",
   "execution_count": 79,
   "metadata": {},
   "outputs": [],
   "source": [
    "stock='JPM'\n",
    "pxFin=pd.DataFrame({stock:web.get_data_yahoo(stock, start_dt, end_dt)['Adj Close']})\n",
    "namesFin=['GS', 'BAC','CME', 'MS', 'USB']\n",
    "for stock in namesFin:\n",
    "    while True:\n",
    "        try:\n",
    "            pxFin[stock]=web.get_data_yahoo(stock, start_dt, end_dt)['Adj Close']\n",
    "            break\n",
    "        except:\n",
    "            print('Unable to read stock: {0}'.format(stock))\n",
    "            print('trying again')"
   ]
  },
  {
   "cell_type": "code",
   "execution_count": 80,
   "metadata": {},
   "outputs": [
    {
     "data": {
      "text/plain": [
       "Text(0.5,1,'Cumulative Returns since Jan 2016 - Financial Services Portfolio')"
      ]
     },
     "execution_count": 80,
     "metadata": {},
     "output_type": "execute_result"
    },
    {
     "data": {
      "image/png": "[encoded data removed]",
      "text/plain": [
       "<Figure size 432x288 with 1 Axes>"
      ]
     },
     "metadata": {
      "needs_background": "light"
     },
     "output_type": "display_data"
    }
   ],
   "source": [
    "plt.close('all')\n",
    "pxFin = pxFin.asfreq('B').fillna(method='pad')\n",
    "rets = pxFin.pct_change()\n",
    "((1 + rets).cumprod() - 1).plot()\n",
    "plt.title('Cumulative Returns since Jan 2016 - Financial Services Portfolio')"
   ]
  },
  {
   "cell_type": "code",
   "execution_count": 81,
   "metadata": {},
   "outputs": [
    {
     "data": {
      "text/plain": [
       "-0.9858895528083693"
      ]
     },
     "execution_count": 81,
     "metadata": {},
     "output_type": "execute_result"
    }
   ],
   "source": [
    "strat_sr(pxFin, 70, 30)"
   ]
  },
  {
   "cell_type": "code",
   "execution_count": 82,
   "metadata": {},
   "outputs": [],
   "source": [
    "lookbacks = range(20, 90, 5)\n",
    "holdings = range(20, 90, 5)\n",
    "ddFin = defaultdict(dict)\n",
    "for lb in lookbacks:\n",
    "    for hold in holdings:\n",
    "        ddFin[lb][hold] = strat_sr(pxFin, lb, hold)\n",
    "\n",
    "ddfFin = DataFrame(ddFin)\n",
    "ddfFin.index.name = 'Holding Period'\n",
    "ddfFin.columns.name = 'Lookback Period'"
   ]
  },
  {
   "cell_type": "code",
   "execution_count": 83,
   "metadata": {},
   "outputs": [
    {
     "data": {
      "image/png": "[encoded data removed]",
      "text/plain": [
       "<Figure size 432x288 with 2 Axes>"
      ]
     },
     "metadata": {
      "needs_background": "light"
     },
     "output_type": "display_data"
    }
   ],
   "source": [
    "heatmap(ddfFin,'Financial Services')\n",
    "plt.show()"
   ]
  },
  {
   "cell_type": "code",
   "execution_count": 84,
   "metadata": {},
   "outputs": [
    {
     "name": "stdout",
     "output_type": "stream",
     "text": [
      "\u001b[4;1;34mPortfolio - Financial\u001b[0m\n",
      "Max Sharpe Ratio is: 0.562195\n"
     ]
    },
    {
     "data": {
      "text/html": [
       "<div>\n",
       "<style scoped>\n",
       "    .dataframe tbody tr th:only-of-type {\n",
       "        vertical-align: middle;\n",
       "    }\n",
       "\n",
       "    .dataframe tbody tr th {\n",
       "        vertical-align: top;\n",
       "    }\n",
       "\n",
       "    .dataframe thead th {\n",
       "        text-align: right;\n",
       "    }\n",
       "</style>\n",
       "<table border=\"1\" class=\"dataframe\">\n",
       "  <thead>\n",
       "    <tr style=\"text-align: right;\">\n",
       "      <th>Lookback Period</th>\n",
       "      <th>20</th>\n",
       "      <th>25</th>\n",
       "      <th>30</th>\n",
       "      <th>35</th>\n",
       "      <th>40</th>\n",
       "      <th>...</th>\n",
       "      <th>65</th>\n",
       "      <th>70</th>\n",
       "      <th>75</th>\n",
       "      <th>80</th>\n",
       "      <th>85</th>\n",
       "    </tr>\n",
       "    <tr>\n",
       "      <th>Holding Period</th>\n",
       "      <th></th>\n",
       "      <th></th>\n",
       "      <th></th>\n",
       "      <th></th>\n",
       "      <th></th>\n",
       "      <th></th>\n",
       "      <th></th>\n",
       "      <th></th>\n",
       "      <th></th>\n",
       "      <th></th>\n",
       "      <th></th>\n",
       "    </tr>\n",
       "  </thead>\n",
       "  <tbody>\n",
       "    <tr>\n",
       "      <th>20</th>\n",
       "      <td>0.258585</td>\n",
       "      <td>0.206699</td>\n",
       "      <td>0.207492</td>\n",
       "      <td>0.435937</td>\n",
       "      <td>0.562195</td>\n",
       "      <td>...</td>\n",
       "      <td>0.036753</td>\n",
       "      <td>-0.039767</td>\n",
       "      <td>-0.319948</td>\n",
       "      <td>-0.399932</td>\n",
       "      <td>-0.41154</td>\n",
       "    </tr>\n",
       "  </tbody>\n",
       "</table>\n",
       "<p>1 rows × 14 columns</p>\n",
       "</div>"
      ],
      "text/plain": [
       "Lookback Period        20        25        30        35        40   ...     \\\n",
       "Holding Period                                                      ...      \n",
       "20               0.258585  0.206699  0.207492  0.435937  0.562195   ...      \n",
       "\n",
       "Lookback Period        65        70        75        80       85  \n",
       "Holding Period                                                    \n",
       "20               0.036753 -0.039767 -0.319948 -0.399932 -0.41154  \n",
       "\n",
       "[1 rows x 14 columns]"
      ]
     },
     "execution_count": 84,
     "metadata": {},
     "output_type": "execute_result"
    }
   ],
   "source": [
    "# max for each row\n",
    "maxForRow = ddfFin.max(axis=0)\n",
    "globalMax = maxForRow.max()\n",
    "print('\\x1b[4;1;34m'+'Portfolio - Financial'+'\\x1b[0m')\n",
    "print (\"Max Sharpe Ratio is: %f\" % globalMax)\n",
    "ddfFin[ddfFin.values==globalMax]"
   ]
  },
  {
   "cell_type": "code",
   "execution_count": 85,
   "metadata": {},
   "outputs": [
    {
     "name": "stdout",
     "output_type": "stream",
     "text": [
      "\u001b[4;1;34mPortfolio - Financial\u001b[0m\n",
      "Min Sharpe Ratio is: -1.793080\n"
     ]
    },
    {
     "data": {
      "text/html": [
       "<div>\n",
       "<style scoped>\n",
       "    .dataframe tbody tr th:only-of-type {\n",
       "        vertical-align: middle;\n",
       "    }\n",
       "\n",
       "    .dataframe tbody tr th {\n",
       "        vertical-align: top;\n",
       "    }\n",
       "\n",
       "    .dataframe thead th {\n",
       "        text-align: right;\n",
       "    }\n",
       "</style>\n",
       "<table border=\"1\" class=\"dataframe\">\n",
       "  <thead>\n",
       "    <tr style=\"text-align: right;\">\n",
       "      <th>Lookback Period</th>\n",
       "      <th>20</th>\n",
       "      <th>25</th>\n",
       "      <th>30</th>\n",
       "      <th>35</th>\n",
       "      <th>40</th>\n",
       "      <th>...</th>\n",
       "      <th>65</th>\n",
       "      <th>70</th>\n",
       "      <th>75</th>\n",
       "      <th>80</th>\n",
       "      <th>85</th>\n",
       "    </tr>\n",
       "    <tr>\n",
       "      <th>Holding Period</th>\n",
       "      <th></th>\n",
       "      <th></th>\n",
       "      <th></th>\n",
       "      <th></th>\n",
       "      <th></th>\n",
       "      <th></th>\n",
       "      <th></th>\n",
       "      <th></th>\n",
       "      <th></th>\n",
       "      <th></th>\n",
       "      <th></th>\n",
       "    </tr>\n",
       "  </thead>\n",
       "  <tbody>\n",
       "    <tr>\n",
       "      <th>80</th>\n",
       "      <td>-1.256922</td>\n",
       "      <td>-1.005073</td>\n",
       "      <td>-1.252891</td>\n",
       "      <td>-1.181078</td>\n",
       "      <td>-1.168751</td>\n",
       "      <td>...</td>\n",
       "      <td>-1.79308</td>\n",
       "      <td>-1.693519</td>\n",
       "      <td>-1.417127</td>\n",
       "      <td>-0.570134</td>\n",
       "      <td>-1.204596</td>\n",
       "    </tr>\n",
       "  </tbody>\n",
       "</table>\n",
       "<p>1 rows × 14 columns</p>\n",
       "</div>"
      ],
      "text/plain": [
       "Lookback Period        20        25        30        35        40    ...     \\\n",
       "Holding Period                                                       ...      \n",
       "80              -1.256922 -1.005073 -1.252891 -1.181078 -1.168751    ...      \n",
       "\n",
       "Lookback Period       65        70        75        80        85  \n",
       "Holding Period                                                    \n",
       "80              -1.79308 -1.693519 -1.417127 -0.570134 -1.204596  \n",
       "\n",
       "[1 rows x 14 columns]"
      ]
     },
     "execution_count": 85,
     "metadata": {},
     "output_type": "execute_result"
    }
   ],
   "source": [
    "# min for each row\n",
    "minForRow = ddfFin.min(axis=0)\n",
    "globalMin = minForRow.min()\n",
    "print('\\x1b[4;1;34m'+'Portfolio - Financial'+'\\x1b[0m')\n",
    "print (\"Min Sharpe Ratio is: %f\" % globalMin)\n",
    "ddfFin[ddfFin.values==globalMin]"
   ]
  },
  {
   "cell_type": "markdown",
   "metadata": {},
   "source": [
    "---"
   ]
  },
  {
   "cell_type": "markdown",
   "metadata": {},
   "source": [
    "### Technology Portfolio\n",
    "INTC - Intel Corporation  \n",
    "AAPL - Apple  \n",
    "GOOGL - Alphabet Inc Class A - Google  \n",
    "FB - Facebook  \n",
    "IBM - International Business Machine  \n",
    "ADBE - Adobe Inc."
   ]
  },
  {
   "cell_type": "code",
   "execution_count": 86,
   "metadata": {},
   "outputs": [],
   "source": [
    "stock='INTC'\n",
    "pxTech=pd.DataFrame({stock:web.get_data_yahoo(stock, start_dt, end_dt)['Adj Close']})\n",
    "namesTech=['AAPL', 'GOOGL','FB', 'IBM', 'ADBE']\n",
    "for stock in namesTech:\n",
    "    while True:\n",
    "        try:\n",
    "            pxTech[stock]=web.get_data_yahoo(stock, start_dt, end_dt)['Adj Close']\n",
    "            break\n",
    "        except:\n",
    "            print('Unable to read stock: {0}'.format(stock))\n",
    "            print('trying again')"
   ]
  },
  {
   "cell_type": "code",
   "execution_count": 87,
   "metadata": {},
   "outputs": [
    {
     "data": {
      "text/plain": [
       "Text(0.5,1,'Cumulative Returns since Jan 2016 - Technology Portfolio')"
      ]
     },
     "execution_count": 87,
     "metadata": {},
     "output_type": "execute_result"
    },
    {
     "data": {
      "image/png": "[encoded data removed]",
      "text/plain": [
       "<Figure size 432x288 with 1 Axes>"
      ]
     },
     "metadata": {
      "needs_background": "light"
     },
     "output_type": "display_data"
    }
   ],
   "source": [
    "plt.close('all')\n",
    "pxTech = pxTech.asfreq('B').fillna(method='pad')\n",
    "rets = pxTech.pct_change()\n",
    "((1 + rets).cumprod() - 1).plot()\n",
    "plt.title('Cumulative Returns since Jan 2016 - Technology Portfolio')"
   ]
  },
  {
   "cell_type": "code",
   "execution_count": 88,
   "metadata": {},
   "outputs": [
    {
     "data": {
      "text/plain": [
       "-0.0745311376826402"
      ]
     },
     "execution_count": 88,
     "metadata": {},
     "output_type": "execute_result"
    }
   ],
   "source": [
    "strat_sr(pxTech, 70, 30)"
   ]
  },
  {
   "cell_type": "code",
   "execution_count": 89,
   "metadata": {},
   "outputs": [],
   "source": [
    "lookbacks = range(20, 90, 5)\n",
    "holdings = range(20, 90, 5)\n",
    "ddTech = defaultdict(dict)\n",
    "for lb in lookbacks:\n",
    "    for hold in holdings:\n",
    "        ddTech[lb][hold] = strat_sr(pxTech, lb, hold)\n",
    "\n",
    "ddfTech = DataFrame(ddTech)\n",
    "ddfTech.index.name = 'Holding Period'\n",
    "ddfTech.columns.name = 'Lookback Period'"
   ]
  },
  {
   "cell_type": "code",
   "execution_count": 90,
   "metadata": {},
   "outputs": [
    {
     "data": {
      "image/png": "[encoded data removed]",
      "text/plain": [
       "<Figure size 432x288 with 2 Axes>"
      ]
     },
     "metadata": {
      "needs_background": "light"
     },
     "output_type": "display_data"
    }
   ],
   "source": [
    "heatmap(ddfTech,'Technology')\n",
    "plt.show()"
   ]
  },
  {
   "cell_type": "code",
   "execution_count": 91,
   "metadata": {},
   "outputs": [
    {
     "name": "stdout",
     "output_type": "stream",
     "text": [
      "\u001b[4;1;34mPortfolio - Technology\u001b[0m\n",
      "Max Sharpe Ratio is: 1.254416\n"
     ]
    },
    {
     "data": {
      "text/html": [
       "<div>\n",
       "<style scoped>\n",
       "    .dataframe tbody tr th:only-of-type {\n",
       "        vertical-align: middle;\n",
       "    }\n",
       "\n",
       "    .dataframe tbody tr th {\n",
       "        vertical-align: top;\n",
       "    }\n",
       "\n",
       "    .dataframe thead th {\n",
       "        text-align: right;\n",
       "    }\n",
       "</style>\n",
       "<table border=\"1\" class=\"dataframe\">\n",
       "  <thead>\n",
       "    <tr style=\"text-align: right;\">\n",
       "      <th>Lookback Period</th>\n",
       "      <th>20</th>\n",
       "      <th>25</th>\n",
       "      <th>30</th>\n",
       "      <th>35</th>\n",
       "      <th>40</th>\n",
       "      <th>...</th>\n",
       "      <th>65</th>\n",
       "      <th>70</th>\n",
       "      <th>75</th>\n",
       "      <th>80</th>\n",
       "      <th>85</th>\n",
       "    </tr>\n",
       "    <tr>\n",
       "      <th>Holding Period</th>\n",
       "      <th></th>\n",
       "      <th></th>\n",
       "      <th></th>\n",
       "      <th></th>\n",
       "      <th></th>\n",
       "      <th></th>\n",
       "      <th></th>\n",
       "      <th></th>\n",
       "      <th></th>\n",
       "      <th></th>\n",
       "      <th></th>\n",
       "    </tr>\n",
       "  </thead>\n",
       "  <tbody>\n",
       "    <tr>\n",
       "      <th>35</th>\n",
       "      <td>-0.211546</td>\n",
       "      <td>0.515282</td>\n",
       "      <td>0.352075</td>\n",
       "      <td>0.363577</td>\n",
       "      <td>1.254416</td>\n",
       "      <td>...</td>\n",
       "      <td>0.30021</td>\n",
       "      <td>0.589753</td>\n",
       "      <td>0.565703</td>\n",
       "      <td>0.460925</td>\n",
       "      <td>0.33904</td>\n",
       "    </tr>\n",
       "  </tbody>\n",
       "</table>\n",
       "<p>1 rows × 14 columns</p>\n",
       "</div>"
      ],
      "text/plain": [
       "Lookback Period        20        25        30        35        40   ...     \\\n",
       "Holding Period                                                      ...      \n",
       "35              -0.211546  0.515282  0.352075  0.363577  1.254416   ...      \n",
       "\n",
       "Lookback Period       65        70        75        80       85  \n",
       "Holding Period                                                   \n",
       "35               0.30021  0.589753  0.565703  0.460925  0.33904  \n",
       "\n",
       "[1 rows x 14 columns]"
      ]
     },
     "execution_count": 91,
     "metadata": {},
     "output_type": "execute_result"
    }
   ],
   "source": [
    "# max for each row\n",
    "maxForRow = ddfTech.max(axis=0)\n",
    "globalMax = maxForRow.max()\n",
    "print('\\x1b[4;1;34m'+'Portfolio - Technology'+'\\x1b[0m')\n",
    "print (\"Max Sharpe Ratio is: %f\" % globalMax)\n",
    "ddfTech[ddfTech.values==globalMax]"
   ]
  },
  {
   "cell_type": "code",
   "execution_count": 92,
   "metadata": {},
   "outputs": [
    {
     "name": "stdout",
     "output_type": "stream",
     "text": [
      "\u001b[4;1;34mPortfolio - Technology\u001b[0m\n",
      "Min Sharpe Ratio is: -1.663423\n"
     ]
    },
    {
     "data": {
      "text/html": [
       "<div>\n",
       "<style scoped>\n",
       "    .dataframe tbody tr th:only-of-type {\n",
       "        vertical-align: middle;\n",
       "    }\n",
       "\n",
       "    .dataframe tbody tr th {\n",
       "        vertical-align: top;\n",
       "    }\n",
       "\n",
       "    .dataframe thead th {\n",
       "        text-align: right;\n",
       "    }\n",
       "</style>\n",
       "<table border=\"1\" class=\"dataframe\">\n",
       "  <thead>\n",
       "    <tr style=\"text-align: right;\">\n",
       "      <th>Lookback Period</th>\n",
       "      <th>20</th>\n",
       "      <th>25</th>\n",
       "      <th>30</th>\n",
       "      <th>35</th>\n",
       "      <th>40</th>\n",
       "      <th>...</th>\n",
       "      <th>65</th>\n",
       "      <th>70</th>\n",
       "      <th>75</th>\n",
       "      <th>80</th>\n",
       "      <th>85</th>\n",
       "    </tr>\n",
       "    <tr>\n",
       "      <th>Holding Period</th>\n",
       "      <th></th>\n",
       "      <th></th>\n",
       "      <th></th>\n",
       "      <th></th>\n",
       "      <th></th>\n",
       "      <th></th>\n",
       "      <th></th>\n",
       "      <th></th>\n",
       "      <th></th>\n",
       "      <th></th>\n",
       "      <th></th>\n",
       "    </tr>\n",
       "  </thead>\n",
       "  <tbody>\n",
       "    <tr>\n",
       "      <th>25</th>\n",
       "      <td>-1.663423</td>\n",
       "      <td>-0.456591</td>\n",
       "      <td>-0.653295</td>\n",
       "      <td>0.052139</td>\n",
       "      <td>-0.186554</td>\n",
       "      <td>...</td>\n",
       "      <td>-0.273734</td>\n",
       "      <td>-0.384447</td>\n",
       "      <td>-0.534143</td>\n",
       "      <td>-0.439635</td>\n",
       "      <td>-0.426686</td>\n",
       "    </tr>\n",
       "  </tbody>\n",
       "</table>\n",
       "<p>1 rows × 14 columns</p>\n",
       "</div>"
      ],
      "text/plain": [
       "Lookback Period        20        25        30        35        40    ...     \\\n",
       "Holding Period                                                       ...      \n",
       "25              -1.663423 -0.456591 -0.653295  0.052139 -0.186554    ...      \n",
       "\n",
       "Lookback Period        65        70        75        80        85  \n",
       "Holding Period                                                     \n",
       "25              -0.273734 -0.384447 -0.534143 -0.439635 -0.426686  \n",
       "\n",
       "[1 rows x 14 columns]"
      ]
     },
     "execution_count": 92,
     "metadata": {},
     "output_type": "execute_result"
    }
   ],
   "source": [
    "# min for each row\n",
    "minForRow = ddfTech.min(axis=0)\n",
    "globalMin = minForRow.min()\n",
    "print('\\x1b[4;1;34m'+'Portfolio - Technology'+'\\x1b[0m')\n",
    "print (\"Min Sharpe Ratio is: %f\" % globalMin)\n",
    "ddfTech[ddfTech.values==globalMin]"
   ]
  },
  {
   "cell_type": "code",
   "execution_count": null,
   "metadata": {},
   "outputs": [],
   "source": []
  },
  {
   "cell_type": "markdown",
   "metadata": {},
   "source": [
    "### Future contract rolling"
   ]
  },
  {
   "cell_type": "code",
   "execution_count": 93,
   "metadata": {},
   "outputs": [],
   "source": [
    "pd.options.display.max_rows = 10"
   ]
  },
  {
   "cell_type": "code",
   "execution_count": 94,
   "metadata": {},
   "outputs": [
    {
     "data": {
      "text/plain": [
       "Date\n",
       "2010-01-04     945.454941\n",
       "2010-01-05     947.957840\n",
       "2010-01-06     948.625259\n",
       "2010-01-07     952.629547\n",
       "2010-01-08     955.799713\n",
       "                 ...     \n",
       "2019-02-26    2793.200073\n",
       "2019-02-27    2792.000122\n",
       "2019-02-28    2786.799927\n",
       "2019-03-01    2804.200134\n",
       "2019-03-04    2785.798950\n",
       "Name: Adj Close, Length: 2306, dtype: float64"
      ]
     },
     "execution_count": 94,
     "metadata": {},
     "output_type": "execute_result"
    }
   ],
   "source": [
    "#import pandas.io.data as web\n",
    "# Approximate price of S&P 500 index\n",
    "px = web.get_data_yahoo('SPY')['Adj Close'] * 10\n",
    "px"
   ]
  },
  {
   "cell_type": "code",
   "execution_count": 95,
   "metadata": {},
   "outputs": [],
   "source": [
    "from datetime import datetime\n",
    "expiry = {'ESU2': datetime(2012, 9, 21),\n",
    "          'ESZ2': datetime(2012, 12, 21)}\n",
    "expiry = Series(expiry).sort_values()"
   ]
  },
  {
   "cell_type": "code",
   "execution_count": 96,
   "metadata": {},
   "outputs": [
    {
     "data": {
      "text/plain": [
       "ESU2   2012-09-21\n",
       "ESZ2   2012-12-21\n",
       "dtype: datetime64[ns]"
      ]
     },
     "execution_count": 96,
     "metadata": {},
     "output_type": "execute_result"
    }
   ],
   "source": [
    "expiry"
   ]
  },
  {
   "cell_type": "code",
   "execution_count": 97,
   "metadata": {},
   "outputs": [],
   "source": [
    "np.random.seed(12347)\n",
    "N = 200\n",
    "walk = (np.random.randint(0, 200, size=N) - 100) * 0.25\n",
    "perturb = (np.random.randint(0, 20, size=N) - 10) * 0.25\n",
    "walk = walk.cumsum()\n",
    "\n",
    "rng = pd.date_range(px.index[0], periods=len(px) + N, freq='B')\n",
    "near = np.concatenate([px.values, px.values[-1] + walk])\n",
    "far = np.concatenate([px.values, px.values[-1] + walk + perturb])\n",
    "prices = DataFrame({'ESU2': near, 'ESZ2': far}, index=rng)"
   ]
  },
  {
   "cell_type": "code",
   "execution_count": 98,
   "metadata": {},
   "outputs": [
    {
     "data": {
      "text/html": [
       "<div>\n",
       "<style scoped>\n",
       "    .dataframe tbody tr th:only-of-type {\n",
       "        vertical-align: middle;\n",
       "    }\n",
       "\n",
       "    .dataframe tbody tr th {\n",
       "        vertical-align: top;\n",
       "    }\n",
       "\n",
       "    .dataframe thead th {\n",
       "        text-align: right;\n",
       "    }\n",
       "</style>\n",
       "<table border=\"1\" class=\"dataframe\">\n",
       "  <thead>\n",
       "    <tr style=\"text-align: right;\">\n",
       "      <th></th>\n",
       "      <th>ESU2</th>\n",
       "      <th>ESZ2</th>\n",
       "    </tr>\n",
       "  </thead>\n",
       "  <tbody>\n",
       "    <tr>\n",
       "      <th>2019-08-06</th>\n",
       "      <td>2815.04895</td>\n",
       "      <td>2816.79895</td>\n",
       "    </tr>\n",
       "    <tr>\n",
       "      <th>2019-08-07</th>\n",
       "      <td>2801.29895</td>\n",
       "      <td>2803.54895</td>\n",
       "    </tr>\n",
       "    <tr>\n",
       "      <th>2019-08-08</th>\n",
       "      <td>2809.29895</td>\n",
       "      <td>2811.04895</td>\n",
       "    </tr>\n",
       "    <tr>\n",
       "      <th>2019-08-09</th>\n",
       "      <td>2825.79895</td>\n",
       "      <td>2825.04895</td>\n",
       "    </tr>\n",
       "    <tr>\n",
       "      <th>2019-08-12</th>\n",
       "      <td>2805.79895</td>\n",
       "      <td>2803.54895</td>\n",
       "    </tr>\n",
       "  </tbody>\n",
       "</table>\n",
       "</div>"
      ],
      "text/plain": [
       "                  ESU2        ESZ2\n",
       "2019-08-06  2815.04895  2816.79895\n",
       "2019-08-07  2801.29895  2803.54895\n",
       "2019-08-08  2809.29895  2811.04895\n",
       "2019-08-09  2825.79895  2825.04895\n",
       "2019-08-12  2805.79895  2803.54895"
      ]
     },
     "execution_count": 98,
     "metadata": {},
     "output_type": "execute_result"
    }
   ],
   "source": [
    "prices.tail()"
   ]
  },
  {
   "cell_type": "code",
   "execution_count": 99,
   "metadata": {},
   "outputs": [],
   "source": [
    "def get_roll_weights(start, expiry, items, roll_periods=5):\n",
    "    # start : first date to compute weighting DataFrame\n",
    "    # expiry : Series of ticker -> expiration dates\n",
    "    # items : sequence of contract names\n",
    "\n",
    "    dates = pd.date_range(start, expiry[-1], freq='B')\n",
    "    weights = DataFrame(np.zeros((len(dates), len(items))),\n",
    "                        index=dates, columns=items)\n",
    "\n",
    "    prev_date = weights.index[0]\n",
    "    for i, (item, ex_date) in enumerate(expiry.iteritems()):\n",
    "        if i < len(expiry) - 1:\n",
    "            #weights.ix[prev_date:ex_date - pd.offsets.BDay(), item] = 1\n",
    "            weights.loc[prev_date:ex_date - pd.offsets.BDay(), item] = 1\n",
    "            roll_rng = pd.date_range(end=ex_date - pd.offsets.BDay(),\n",
    "                                     periods=roll_periods + 1, freq='B')\n",
    "\n",
    "            decay_weights = np.linspace(0, 1, roll_periods + 1)\n",
    "            #weights.ix[roll_rng, item] = 1 - decay_weights\n",
    "            weights.loc[roll_rng, item] = 1 - decay_weights\n",
    "            #weights.ix[roll_rng, expiry.index[i + 1]] = decay_weights\n",
    "            weights.loc[roll_rng, expiry.index[i + 1]] = decay_weights\n",
    "        else:\n",
    "            #weights.ix[prev_date:, item] = 1\n",
    "            weights.loc[prev_date:, item] = 1\n",
    "\n",
    "        prev_date = ex_date\n",
    "\n",
    "    return weights"
   ]
  },
  {
   "cell_type": "code",
   "execution_count": 100,
   "metadata": {},
   "outputs": [
    {
     "data": {
      "text/html": [
       "<div>\n",
       "<style scoped>\n",
       "    .dataframe tbody tr th:only-of-type {\n",
       "        vertical-align: middle;\n",
       "    }\n",
       "\n",
       "    .dataframe tbody tr th {\n",
       "        vertical-align: top;\n",
       "    }\n",
       "\n",
       "    .dataframe thead th {\n",
       "        text-align: right;\n",
       "    }\n",
       "</style>\n",
       "<table border=\"1\" class=\"dataframe\">\n",
       "  <thead>\n",
       "    <tr style=\"text-align: right;\">\n",
       "      <th></th>\n",
       "      <th>ESU2</th>\n",
       "      <th>ESZ2</th>\n",
       "    </tr>\n",
       "  </thead>\n",
       "  <tbody>\n",
       "    <tr>\n",
       "      <th>2012-09-12</th>\n",
       "      <td>1.0</td>\n",
       "      <td>0.0</td>\n",
       "    </tr>\n",
       "    <tr>\n",
       "      <th>2012-09-13</th>\n",
       "      <td>1.0</td>\n",
       "      <td>0.0</td>\n",
       "    </tr>\n",
       "    <tr>\n",
       "      <th>2012-09-14</th>\n",
       "      <td>0.8</td>\n",
       "      <td>0.2</td>\n",
       "    </tr>\n",
       "    <tr>\n",
       "      <th>2012-09-17</th>\n",
       "      <td>0.6</td>\n",
       "      <td>0.4</td>\n",
       "    </tr>\n",
       "    <tr>\n",
       "      <th>2012-09-18</th>\n",
       "      <td>0.4</td>\n",
       "      <td>0.6</td>\n",
       "    </tr>\n",
       "    <tr>\n",
       "      <th>2012-09-19</th>\n",
       "      <td>0.2</td>\n",
       "      <td>0.8</td>\n",
       "    </tr>\n",
       "    <tr>\n",
       "      <th>2012-09-20</th>\n",
       "      <td>0.0</td>\n",
       "      <td>1.0</td>\n",
       "    </tr>\n",
       "    <tr>\n",
       "      <th>2012-09-21</th>\n",
       "      <td>0.0</td>\n",
       "      <td>1.0</td>\n",
       "    </tr>\n",
       "  </tbody>\n",
       "</table>\n",
       "</div>"
      ],
      "text/plain": [
       "            ESU2  ESZ2\n",
       "2012-09-12   1.0   0.0\n",
       "2012-09-13   1.0   0.0\n",
       "2012-09-14   0.8   0.2\n",
       "2012-09-17   0.6   0.4\n",
       "2012-09-18   0.4   0.6\n",
       "2012-09-19   0.2   0.8\n",
       "2012-09-20   0.0   1.0\n",
       "2012-09-21   0.0   1.0"
      ]
     },
     "execution_count": 100,
     "metadata": {},
     "output_type": "execute_result"
    }
   ],
   "source": [
    "weights = get_roll_weights('6/1/2012', expiry, prices.columns)\n",
    "weights.loc['2012-09-12':'2012-09-21']"
   ]
  },
  {
   "cell_type": "code",
   "execution_count": 101,
   "metadata": {},
   "outputs": [],
   "source": [
    "rolled_returns = (prices.pct_change() * weights).sum(1)"
   ]
  },
  {
   "cell_type": "markdown",
   "metadata": {},
   "source": [
    "### Rolling correlation and linear regression"
   ]
  },
  {
   "cell_type": "code",
   "execution_count": 102,
   "metadata": {},
   "outputs": [],
   "source": [
    "#aapl = web.get_data_yahoo('AAPL', '2000-01-01')['Adj Close']\n",
    "#msft = web.get_data_yahoo('MSFT', '2000-01-01')['Adj Close']\n",
    "jnj = web.get_data_yahoo('JNJ', '2000-01-01')['Adj Close']\n",
    "ge = web.get_data_yahoo('GE', '2000-01-01')['Adj Close']\n",
    "\n",
    "#aapl_rets = aapl.pct_change()\n",
    "#msft_rets = msft.pct_change()\n",
    "jnj_rets = jnj.pct_change()\n",
    "ge_rets = ge.pct_change()"
   ]
  },
  {
   "cell_type": "code",
   "execution_count": 103,
   "metadata": {},
   "outputs": [
    {
     "data": {
      "text/plain": [
       "<Figure size 432x288 with 0 Axes>"
      ]
     },
     "execution_count": 103,
     "metadata": {},
     "output_type": "execute_result"
    },
    {
     "data": {
      "text/plain": [
       "<Figure size 432x288 with 0 Axes>"
      ]
     },
     "metadata": {},
     "output_type": "display_data"
    }
   ],
   "source": [
    "plt.figure()\n"
   ]
  },
  {
   "cell_type": "code",
   "execution_count": 104,
   "metadata": {},
   "outputs": [
    {
     "data": {
      "text/plain": [
       "<matplotlib.axes._subplots.AxesSubplot at 0x1b4edc81390>"
      ]
     },
     "execution_count": 104,
     "metadata": {},
     "output_type": "execute_result"
    },
    {
     "data": {
      "image/png": "[encoded data removed]",
      "text/plain": [
       "<Figure size 432x288 with 1 Axes>"
      ]
     },
     "metadata": {
      "needs_background": "light"
     },
     "output_type": "display_data"
    }
   ],
   "source": [
    "#aapl_rets.rolling(window=250).corr(msft_rets).plot()\n",
    "ge_rets.rolling(window=250).corr(jnj_rets).plot()"
   ]
  },
  {
   "cell_type": "code",
   "execution_count": 105,
   "metadata": {},
   "outputs": [
    {
     "data": {
      "text/plain": [
       "<Figure size 432x288 with 0 Axes>"
      ]
     },
     "execution_count": 105,
     "metadata": {},
     "output_type": "execute_result"
    },
    {
     "data": {
      "text/plain": [
       "<Figure size 432x288 with 0 Axes>"
      ]
     },
     "metadata": {},
     "output_type": "display_data"
    }
   ],
   "source": [
    "plt.figure()"
   ]
  },
  {
   "cell_type": "code",
   "execution_count": 106,
   "metadata": {},
   "outputs": [
    {
     "data": {
      "text/html": [
       "<div>\n",
       "<style scoped>\n",
       "    .dataframe tbody tr th:only-of-type {\n",
       "        vertical-align: middle;\n",
       "    }\n",
       "\n",
       "    .dataframe tbody tr th {\n",
       "        vertical-align: top;\n",
       "    }\n",
       "\n",
       "    .dataframe thead th {\n",
       "        text-align: right;\n",
       "    }\n",
       "</style>\n",
       "<table border=\"1\" class=\"dataframe\">\n",
       "  <thead>\n",
       "    <tr style=\"text-align: right;\">\n",
       "      <th></th>\n",
       "      <th>feature1</th>\n",
       "    </tr>\n",
       "    <tr>\n",
       "      <th>Date</th>\n",
       "      <th></th>\n",
       "    </tr>\n",
       "  </thead>\n",
       "  <tbody>\n",
       "    <tr>\n",
       "      <th>2000-12-27</th>\n",
       "      <td>NaN</td>\n",
       "    </tr>\n",
       "    <tr>\n",
       "      <th>2000-12-28</th>\n",
       "      <td>0.152511</td>\n",
       "    </tr>\n",
       "    <tr>\n",
       "      <th>2000-12-29</th>\n",
       "      <td>0.142969</td>\n",
       "    </tr>\n",
       "    <tr>\n",
       "      <th>2001-01-02</th>\n",
       "      <td>0.153754</td>\n",
       "    </tr>\n",
       "    <tr>\n",
       "      <th>2001-01-03</th>\n",
       "      <td>0.122842</td>\n",
       "    </tr>\n",
       "    <tr>\n",
       "      <th>...</th>\n",
       "      <td>...</td>\n",
       "    </tr>\n",
       "    <tr>\n",
       "      <th>2019-02-26</th>\n",
       "      <td>0.045063</td>\n",
       "    </tr>\n",
       "    <tr>\n",
       "      <th>2019-02-27</th>\n",
       "      <td>0.042853</td>\n",
       "    </tr>\n",
       "    <tr>\n",
       "      <th>2019-02-28</th>\n",
       "      <td>0.040472</td>\n",
       "    </tr>\n",
       "    <tr>\n",
       "      <th>2019-03-01</th>\n",
       "      <td>0.039250</td>\n",
       "    </tr>\n",
       "    <tr>\n",
       "      <th>2019-03-04</th>\n",
       "      <td>0.038428</td>\n",
       "    </tr>\n",
       "  </tbody>\n",
       "</table>\n",
       "<p>4572 rows × 1 columns</p>\n",
       "</div>"
      ],
      "text/plain": [
       "            feature1\n",
       "Date                \n",
       "2000-12-27       NaN\n",
       "2000-12-28  0.152511\n",
       "2000-12-29  0.142969\n",
       "2001-01-02  0.153754\n",
       "2001-01-03  0.122842\n",
       "...              ...\n",
       "2019-02-26  0.045063\n",
       "2019-02-27  0.042853\n",
       "2019-02-28  0.040472\n",
       "2019-03-01  0.039250\n",
       "2019-03-04  0.038428\n",
       "\n",
       "[4572 rows x 1 columns]"
      ]
     },
     "execution_count": 106,
     "metadata": {},
     "output_type": "execute_result"
    }
   ],
   "source": [
    "from pyfinance.ols import PandasRollingOLS\n",
    "#model = PandasRollingOLS(y=aapl_rets, x= msft_rets, window=250)\n",
    "model = PandasRollingOLS(y=jnj_rets, x= ge_rets, window=250)\n",
    "model.beta"
   ]
  },
  {
   "cell_type": "code",
   "execution_count": 107,
   "metadata": {},
   "outputs": [
    {
     "data": {
      "text/plain": [
       "<matplotlib.axes._subplots.AxesSubplot at 0x1b4edba4470>"
      ]
     },
     "execution_count": 107,
     "metadata": {},
     "output_type": "execute_result"
    },
    {
     "data": {
      "image/png": "[encoded data removed]",
      "text/plain": [
       "<Figure size 432x288 with 1 Axes>"
      ]
     },
     "metadata": {
      "needs_background": "light"
     },
     "output_type": "display_data"
    }
   ],
   "source": [
    "model.beta['feature1'].plot()"
   ]
  },
  {
   "cell_type": "code",
   "execution_count": 108,
   "metadata": {},
   "outputs": [
    {
     "ename": "NameError",
     "evalue": "name 'msft_rets' is not defined",
     "output_type": "error",
     "traceback": [
      "\u001b[1;31m---------------------------------------------------------------------------\u001b[0m",
      "\u001b[1;31mNameError\u001b[0m                                 Traceback (most recent call last)",
      "\u001b[1;32m<ipython-input-108-0cd490e852d8>\u001b[0m in \u001b[0;36m<module>\u001b[1;34m()\u001b[0m\n\u001b[1;32m----> 1\u001b[1;33m \u001b[0mmsft_rets\u001b[0m\u001b[1;33m\u001b[0m\u001b[0m\n\u001b[0m",
      "\u001b[1;31mNameError\u001b[0m: name 'msft_rets' is not defined"
     ]
    }
   ],
   "source": [
    "msft_rets"
   ]
  },
  {
   "cell_type": "code",
   "execution_count": null,
   "metadata": {},
   "outputs": [],
   "source": []
  }
 ],
 "metadata": {
  "kernelspec": {
   "display_name": "Python 3",
   "language": "python",
   "name": "python3"
  },
  "language_info": {
   "codemirror_mode": {
    "name": "ipython",
    "version": 3
   },
   "file_extension": ".py",
   "mimetype": "text/x-python",
   "name": "python",
   "nbconvert_exporter": "python",
   "pygments_lexer": "ipython3",
   "version": "3.6.4"
  }
 },
 "nbformat": 4,
 "nbformat_minor": 2
}
